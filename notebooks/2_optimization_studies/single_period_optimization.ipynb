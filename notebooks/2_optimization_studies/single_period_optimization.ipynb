{
 "cells": [
  {
   "cell_type": "markdown",
   "id": "ee869ad3",
   "metadata": {},
   "source": [
    "# Single-Period Optimization - Algorithm Validation\n",
    "\n",
    "## Overview\n",
    "This notebook focuses on the inverse design of a single periodic cell of the photonic structure. By simplifying the problem from 61 periods to just one, the primary goal is to validate the core optimization algorithm and establish a baseline performance metric for a single unit.\n",
    "\n",
    "## Key Objectives\n",
    "- **Algorithm Verification**: To test and confirm that the adjoint-based optimization algorithm functions correctly on a simplified, single-period problem.\n",
    "- **Baseline Performance**: To determine the maximum achievable accelerating field (`e1`) for a single, isolated cell.\n",
    "- **Parameter Sensitivity**: To understand how the pillar dimensions (`rx`, `ry`) and position (`y_pos`) affect the `e1` field in the absence of inter-cell coupling.\n",
    "\n",
    "### Methodology\n",
    "- The simulation is configured for a single periodic cell (`Periods = 1`).\n",
    "- The adjoint method is used to calculate the gradient of the objective function (maximize `e1`).\n",
    "- The custom Adam optimizer with basin hopping is employed to find the optimal pillar geometry for this single cell.\n",
    "- The simulation is run for a set number of steps to converge on the best design.\n",
    "\n",
    "### Key Functions\n",
    "- `func()`: The main objective function, simplified for a single period.\n",
    "- `adam_optimize()`: The core optimization routine that updates parameters based on the calculated gradient.\n",
    "- `build_structure()`: Constructs the dual-pillar geometry for the single cell.\n",
    "\n",
    "### Results\n",
    "- The optimized geometric parameters (`rx`, `ry`, `y_pos`) for a single cell that maximize the `e1` field.\n",
    "- A baseline value for the maximum achievable `e1` field, which serves as a reference for more complex multi-period designs.\n",
    "\n",
    "## Usage\n",
    "This notebook is designed to be a fundamental test case. Running it provides insight into the basic physics of the pillar-based acceleration and confirms that the optimization code is working as expected before moving to more complex, multi-period simulations."
   ]
  },
  {
   "cell_type": "code",
   "execution_count": null,
   "id": "2d48a7ef",
   "metadata": {},
   "outputs": [],
   "source": [
    "import sys, os\n",
    "sys.path.append(\"C:\\\\Program Files\\\\Lumerical\\\\v212\\\\api\\\\python\\\\\") #Default windows lumapi path\n",
    "import numpy as np\n",
    "import matplotlib.pyplot as plt\n",
    "import lumapi\n",
    "from scipy.fft import fft, ifft, fftfreq, fftshift\n",
    "import scipy.optimize as so\n",
    "import scipy.integrate as integrate\n",
    "from scipy.optimize import curve_fit\n",
    "from numpy import unravel_index\n",
    "from numpy import linalg as npla\n",
    "from scipy.optimize import basinhopping\n",
    "import random\n",
    "from IPython.core.debugger import set_trace\n",
    "import math\n",
    "import time\n",
    "import cmath\n",
    "from scipy import interpolate\n",
    "from scipy import signal"
   ]
  },
  {
   "cell_type": "code",
   "execution_count": 2,
   "id": "6a13d290",
   "metadata": {},
   "outputs": [
    {
     "data": {
      "text/plain": [
       "0.0"
      ]
     },
     "execution_count": 2,
     "metadata": {},
     "output_type": "execute_result"
    }
   ],
   "source": [
    "lml = 1.932e-6 #laser wavelength\n",
    "beta = 0.3 #electron velocity \n",
    "Periods = 1\n",
    "\n",
    "x_adj_arr = 0.0\n",
    "z_adj_arr = 1.5e-6                            \n",
    "lambda0 = lml\n",
    "c = 3e8 #speed of light \n",
    "f = c/lambda0 #frequency\n",
    "q = 1 #charge in e\n",
    "m = 0.511e6 #mass in eV/c**2\n",
    "Ey = 1 \n",
    "\n",
    "beta_array = np.full((Periods,), beta) #array of electron velocity at each period\n",
    "Periods_array = lml*beta_array #periodicity of each cell\n",
    "preperarr = Periods_array.copy()\n",
    "delta_W = np.zeros((Periods,1))\n",
    "EyFmax_forward = np.ones((Periods), dtype=complex)\n",
    "prev_G = np.full((Periods,1), 100.0)\n",
    "\n",
    "'''\n",
    "#exponential design curve\n",
    "a = np.linspace(np.log(20), np.log(80), Periods)\n",
    "z = np.exp(a)\n",
    "d_n = np.reshape(z,(Periods,1)) \n",
    "'''\n",
    "\n",
    "a = np.linspace(0,2*np.pi,Periods)\n",
    "z = (np.cos(3*a))/45 + np.cos(a)/45 + np.cos(5*a)/50 + np.cos(2*a)/40 + 0.05\n",
    "d_n = 0.0\n",
    "\n",
    "#2*(a/(2*np.pi) - (1/2 + a/(2*np.pi)))\n",
    "\n",
    "\n",
    "\n",
    "\n",
    "max_Periods_array = Periods_array.copy()\n",
    "\n",
    "#variable declarations\n",
    "Adjoint_phase = 0.0\n",
    "lockin = 0 #optimizes the structure from begining to end, 'locking in' the values below a tolerance\n",
    "lockin_prev = 0\n",
    "x0point = 0\n",
    "tol = 0.06 #tolerance parameter for the optimizer, difference of e1 and d_n for ~3 periods\n",
    "e = []\n",
    "rarr = []\n",
    "ephi = []\n",
    "lmp = lml*beta #synchronicity condition for m=1\n",
    "i = 0 #used for numbering files\n",
    "number_of_params = 3\n",
    "\n",
    "d_n"
   ]
  },
  {
   "cell_type": "code",
   "execution_count": 3,
   "id": "68b4878b",
   "metadata": {},
   "outputs": [],
   "source": [
    "def e1_scaling_sigmoid(desired_beta):\n",
    "    energy_scaling = 0.1681616 + 0.71904549/(1+np.exp(-15.87927686*(desired_beta-0.48068445)))\n",
    "    return energy_scaling *0.75\n",
    "\n",
    "Barray = np.sqrt((2*d_n)/m)\n",
    "d_n = e1_scaling_sigmoid(Barray)"
   ]
  },
  {
   "cell_type": "code",
   "execution_count": 3,
   "id": "a53568db",
   "metadata": {},
   "outputs": [
    {
     "data": {
      "text/plain": [
       "0.0"
      ]
     },
     "execution_count": 3,
     "metadata": {},
     "output_type": "execute_result"
    }
   ],
   "source": [
    "d_n"
   ]
  },
  {
   "cell_type": "code",
   "execution_count": 4,
   "id": "c2a5bf20",
   "metadata": {},
   "outputs": [],
   "source": [
    "W_array = np.full(Periods, m/2*beta**2) #injection energy\n",
    "\n",
    "def accel_calc(period, EY):\n",
    "    '''\n",
    "\n",
    "    Takes in a periodicity array and array of e1 values and calculates energy and velocity and then \n",
    "    returns an updated periodicity array.  \n",
    "    \n",
    "    '''\n",
    "    global delta_W\n",
    "    global beta_array\n",
    "    global W_array\n",
    "    for j in range(Periods-1):\n",
    "        #energy calculation from 6D tracking eq 7\n",
    "        delta_W[j] = q*period[j]*np.real(EY[j]*np.exp(2*np.pi*1j*period[j]/max_Periods_array[j]))*100e6 #possibly need to add a phase term here   \n",
    "        W_array[j+1] = W_array[j] + delta_W[j]\n",
    "        #beta calculated from energy\n",
    "        beta_array[j+1] =  np.sqrt((2*W_array[j+1])/m)\n",
    "        period[j+1] = lml*beta_array[j+1]\n",
    "    #update the last element of the array\n",
    "    delta_W[-1] = q*period[-1]*np.real(EY[-1]*np.exp(2*np.pi*1j*period[-1]/max_Periods_array[-1]))*100e6\n",
    "    return period"
   ]
  },
  {
   "cell_type": "code",
   "execution_count": 5,
   "id": "6ff83923",
   "metadata": {},
   "outputs": [
    {
     "data": {
      "text/plain": [
       "array([5.796e-07])"
      ]
     },
     "execution_count": 5,
     "metadata": {},
     "output_type": "execute_result"
    }
   ],
   "source": [
    "#max_Periods_array = accel_calc(max_Periods_array, d_n.flatten()) #calculate the max_Periods from the design curve\n",
    "FDTDxspan = 4.2e-6\n",
    "FDTDyspan = np.sum(max_Periods_array)\n",
    "FDTDdx = 10.0e-9\n",
    "FDTDdy = 10.0e-9\n",
    "yarrsize = math.ceil(max_Periods_array[-1]/FDTDdy) #max array size to interpolate all cells to, for numpy array operations\n",
    "xarrsize = math.ceil(FDTDxspan/(2*FDTDdx)) + 1\n",
    "cell_size = yarrsize//Periods\n",
    "Xmax = np.linspace(0.0, FDTDxspan/2, xarrsize)\n",
    "Ymax = np.linspace(0.0, FDTDyspan, yarrsize)\n",
    "max_Periods_array"
   ]
  },
  {
   "cell_type": "code",
   "execution_count": 6,
   "id": "d5b6353b",
   "metadata": {},
   "outputs": [
    {
     "data": {
      "text/plain": [
       "1.0"
      ]
     },
     "execution_count": 6,
     "metadata": {},
     "output_type": "execute_result"
    }
   ],
   "source": [
    "W_array[-1]/W_array[0]"
   ]
  },
  {
   "cell_type": "code",
   "execution_count": 34,
   "id": "59800972",
   "metadata": {},
   "outputs": [],
   "source": [
    "rguess1 = None\n",
    "rguess1 = np.full((Periods, number_of_params), [110e-9, 170e-9, lmp/2])\n",
    "for j in range(Periods):\n",
    "    rguess1[j][2] =  (0.5*max_Periods_array[j])+np.sum(max_Periods_array[:j])\n",
    "#rguess1 = np.append(rguess1,np.reshape(Periods_array.copy(), (Periods,1)),axis=1)\n",
    "rguess1 = rguess1.flatten()"
   ]
  },
  {
   "cell_type": "code",
   "execution_count": 35,
   "id": "cfb0e559",
   "metadata": {},
   "outputs": [],
   "source": [
    "def adjoint_source_calc(periods):\n",
    "    \n",
    "    '''\n",
    "    This function calculates the phase of the adjoint source for each cell's given periodicity. \n",
    "    It makes an Ey array and 2 y arrays. The purpose of the two y-arrays is one is used to calculate \n",
    "    the phase of Ey (using the cell's periodicity), while the second is returned as the y position \n",
    "    array for the adjoint source in lumerical. Conceptually it creates multiple sinusoids of increasing\n",
    "    frequency (for the increasing period size) and then concatenates them. \n",
    "    \n",
    "    It takes in a periodicity array and returns Ey and the concatenated y array. \n",
    "    '''\n",
    "\n",
    "    Ey_n = np.zeros((Periods,yarrsize), dtype='complex')\n",
    "    y_adj_arr = np.zeros((Periods,yarrsize))\n",
    "    y_adj_arr2 = np.zeros((Periods,yarrsize))\n",
    "    y_adj_arr[0] = np.linspace(0.0, periods[0], yarrsize)\n",
    "    y_adj_arr2[0] = np.linspace(0.0, periods[0], yarrsize)\n",
    "    \n",
    "    for j in range(1,Periods):\n",
    "        y_adj_arr[j] = np.linspace(j*periods[j], (j+1)*periods[j], yarrsize) #array for the cell size for the phase calculation \n",
    "        y_adj_arr2[j] = np.linspace(np.sum(periods[:j]), np.sum(periods[:j+1]), yarrsize)  #array for the ypos of the Ey points\n",
    "        \n",
    "    for j in range(Periods):\n",
    "        Ey_n[j] = 1j*np.exp(1j*2*np.pi*(y_adj_arr[j]+periods[j]/2)/periods[j]) #Ey phase calculation\n",
    "        \n",
    "        \n",
    "    Ey = np.ravel(Ey_n) #flattens the arrays before returning\n",
    "    y_adj_arr = np.ravel(y_adj_arr2)\n",
    "    \n",
    "    return Ey, y_adj_arr"
   ]
  },
  {
   "cell_type": "code",
   "execution_count": 36,
   "id": "104c2560",
   "metadata": {},
   "outputs": [],
   "source": [
    "Ey, y_adj_arr = adjoint_source_calc(max_Periods_array)"
   ]
  },
  {
   "cell_type": "code",
   "execution_count": 37,
   "id": "3419742d",
   "metadata": {},
   "outputs": [],
   "source": [
    "def open_lumerical():\n",
    "    ''' \n",
    "    \n",
    "    This function opens lumerical via lumapi and sets up an FDTD simulation area.\n",
    "    \n",
    "    '''\n",
    "    \n",
    "    global fdtd \n",
    "    fdtd = lumapi.FDTD()\n",
    "    \n",
    "    fdtd.addfdtd()\n",
    "    fdtd.redrawoff() #just turns the animation off to save simulation time\n",
    "    #self explanatory settings\n",
    "    configuration = (\n",
    "        \n",
    "        (\"FDTD\", ((\"dimension\", \"2D\"), \n",
    "                    (\"y\", FDTDyspan/2), \n",
    "                    (\"y span\", (FDTDyspan)), #extend the FDTD region 3 wavelengths in each direction \n",
    "                                                    #to elminate 'ringing' from TFSF source\n",
    "                    (\"x\", 0.0), \n",
    "                    (\"x span\", FDTDxspan), \n",
    "                    (\"z\", 1.5e-6), \n",
    "                    (\"simulation time\", 130e-15), \n",
    "                    (\"mesh type\", \"uniform\"),\n",
    "                    (\"dx\", FDTDdx), \n",
    "                    (\"dy\", FDTDdy), \n",
    "                    (\"y min bc\", \"Periodic\"), \n",
    "                    (\"y max bc\", \"Periodic\"),\n",
    "                    (\"x min bc\", \"Symmetric\") \n",
    "                    )),\n",
    "                \n",
    "        \n",
    "        \n",
    "    )\n",
    "    for obj, parameters in configuration:\n",
    "        for k, v in parameters:\n",
    "            fdtd.setnamed(obj, k, v)\n",
    "            \n",
    "            \n",
    "    return "
   ]
  },
  {
   "cell_type": "code",
   "execution_count": 38,
   "id": "60668644",
   "metadata": {},
   "outputs": [],
   "source": [
    "def monitors_func(r):\n",
    "    '''\n",
    "    \n",
    "    This function sets up the field and index monitors for each simulation, taking in the periodicity array as a variable.\n",
    "    \n",
    "    '''\n",
    "    period = r.copy()\n",
    "    for x in range(Periods):\n",
    "        fdtd.addindex()\n",
    "        fdtd.set(\"name\", \"index_monitor-{}\".format(x))\n",
    "        fdtd.addpower()\n",
    "        fdtd.set(\"name\",\"field_profile-{}\".format(x))\n",
    "        configuration = (\n",
    "        (\"field_profile-{}\".format(x), ((\"monitor type\",7),  # 2D z-normal\n",
    "                    (\"spatial interpolation\", \"none\"),\n",
    "                    #(\"apodization\", \"Full\"), # temporal apodization of the field monitor before the fourier transform\n",
    "                    #(\"apodization center\", 50e-15), # used to reduce transient source interference from edge effects\n",
    "                    #(\"apodization time width\", 30e-15), #set up after viewing the field with a time monitor to balance \n",
    "                                                        #information retention and transient source reduction\n",
    "                    (\"y\", (0.5*period[x])+np.sum(period[:x])),\n",
    "                    (\"y span\", period[x]),\n",
    "                    (\"x\",0.0),\n",
    "                    (\"x span\", FDTDxspan),\n",
    "                    (\"z\", 1.5e-6))), \n",
    "            \n",
    "        (\"index_monitor-{}\".format(x), (('override global monitor settings', True),\n",
    "                    (\"monitor type\", '2D Z-normal'),\n",
    "                    ('frequency points', 1),\n",
    "                    ('record conformal mesh when possible', True),\n",
    "                    (\"spatial interpolation\", \"none\"),\n",
    "                    (\"y\", (0.5*period[x])+np.sum(period[:x])), # monitors set at y given by the sum of previous periods' size\n",
    "                    (\"y span\", period[x]),\n",
    "                    (\"x\", 0.0),\n",
    "                    (\"x span\", FDTDxspan),\n",
    "                    (\"z\", 1.5e-6))),    \n",
    "            \n",
    "            \n",
    "            \n",
    "        )\n",
    "    \n",
    "        for obj, parameters in configuration:\n",
    "            for k, v in parameters:\n",
    "                fdtd.setnamed(obj, k, v)\n",
    "                \n",
    "    return"
   ]
  },
  {
   "cell_type": "code",
   "execution_count": 39,
   "id": "17b735ad",
   "metadata": {},
   "outputs": [],
   "source": [
    "def build_structure(r):\n",
    "    '''\n",
    "    \n",
    "    This function builds the dual pillar structure according to the parameter input array r.\n",
    "    \n",
    "    \n",
    "    '''\n",
    "    for j in range(Periods):\n",
    "        rx=r[j][0]\n",
    "        ry=r[j][1]\n",
    "        pillary = r[j][2]\n",
    "        #theta1 = r[j][3]*1e8  #### should be able to easily add pillar angle as a parameter\n",
    "        # when a parameter is added to r, you have to be careful with the constraints, they will likely have to change\n",
    "        # from every 3rd element to every 4th element \n",
    "        channelw = 225.0e-9 #channel width \n",
    "        pillarx = (2*rx + channelw)/2 #always maintains the channel width based on rx\n",
    "        fdtd.addcircle()\n",
    "        fdtd.set(\"name\", \"pillar-R-{}\".format(j))\n",
    "        pillconfiguration = (\n",
    "        (\"pillar-R-{}\".format(j), ((\"radius\", rx),\n",
    "                (\"y\", pillary),\n",
    "                (\"x\", pillarx),\n",
    "                (\"z\", 1.5e-6),\n",
    "                (\"z span\", 3.0e-6),\n",
    "                (\"make ellipsoid\", 1),  #select checkbox \n",
    "                (\"radius 2\", ry),\n",
    "                (\"first axis\", \"z\"),\n",
    "                #(\"rotation 1\", theta1),\n",
    "                (\"material\",\"Si (Silicon) - Palik\"))), \n",
    "        )\n",
    "            \n",
    "        for obj, parameters in pillconfiguration:\n",
    "            for k, v in parameters:\n",
    "                fdtd.setnamed(obj, k, v)\n",
    "    \n",
    "    return"
   ]
  },
  {
   "cell_type": "code",
   "execution_count": 40,
   "id": "55a91ce2",
   "metadata": {},
   "outputs": [],
   "source": [
    "def delete_structure():\n",
    "    '''\n",
    "    \n",
    "    This function deletes the structure, field, and index monitors. \n",
    "    \n",
    "    '''\n",
    "    for j in range(Periods):\n",
    "        fdtd.select(\"pillar-R-{}\".format(j))\n",
    "        fdtd.delete()\n",
    "        fdtd.select(\"field_profile-{}\".format(j))\n",
    "        fdtd.delete()\n",
    "        fdtd.select(\"index_monitor-{}\".format(j))\n",
    "        fdtd.delete()\n",
    "    fdtd.unselectall()\n",
    "    return "
   ]
  },
  {
   "cell_type": "code",
   "execution_count": 41,
   "id": "cc683a85",
   "metadata": {},
   "outputs": [],
   "source": [
    "def forward_sim(): #make forward sim setup\n",
    "    \n",
    "    '''\n",
    "    \n",
    "    This function adds the forward source, saves the lsf file, runs the simulation, retrieves the data, does some computation\n",
    "    and then returns the data. \n",
    "    \n",
    "    '''\n",
    "    \n",
    "    \n",
    "    fdtd.addplane()\n",
    "    fdtd.set(\"name\", \"source_1\")\n",
    "    configuration = (    \n",
    "        (\"source_1\", ((\"amplitude\", 1.0),\n",
    "                    (\"phase\", 0.0),\n",
    "                    (\"injection axis\", \"x\"),\n",
    "                    (\"direction\", \"Backward\"),\n",
    "                    (\"y\", FDTDyspan/2),\n",
    "                    (\"y span\", (FDTDyspan)),\n",
    "                    (\"x\", FDTDxspan/2),\n",
    "                    (\"z\", 1.5e-6),\n",
    "                    (\"z span\", 3.0e-6),\n",
    "                    (\"center wavelength\", 1.932e-6),\n",
    "                    (\"wavelength span\", 0.0))),\n",
    "        )\n",
    "    for obj, parameters in configuration:\n",
    "        for k, v in parameters:\n",
    "            fdtd.setnamed(obj, k, v)\n",
    "    \n",
    "    '''\n",
    "    \n",
    "    \n",
    "    fdtd.addtfsf()\n",
    "    fdtd.set(\"name\", \"source_1\")\n",
    "    configuration = (    \n",
    "        (\"source_1\", ((\"amplitude\", 1.0),\n",
    "                    (\"phase\", 0.0),\n",
    "                    (\"injection axis\", \"x\"),\n",
    "                    (\"direction\", \"Backward\"),\n",
    "                    (\"y\", FDTDyspan/2),\n",
    "                    (\"y span\", (FDTDyspan + 6*lml - 10e-9)),\n",
    "                    (\"x\", 0.0),\n",
    "                    (\"x span\", (FDTDxspan)), \n",
    "                    (\"z\", 1.5e-6),\n",
    "                    (\"z span\", 3.0e-6),\n",
    "                    (\"center wavelength\", 1.932e-6),\n",
    "                    (\"wavelength span\", 0.0))),\n",
    "        )\n",
    "    for obj, parameters in configuration:\n",
    "        for k, v in parameters:\n",
    "            fdtd.setnamed(obj, k, v)\n",
    "    '''        \n",
    "            \n",
    "                  \n",
    "    fdtd.save(\"ForwardSimTest-1.fsp\")\n",
    "    fdtd.run()\n",
    "    #set_trace()\n",
    "    EYsize = fdtd.getdata(\"field_profile-0\", \"Ey\") #array [xvals, yvals, z, lambda]\n",
    "    x0point = EYsize.shape[0]//2\n",
    "    EYarrForward = np.zeros((Periods, xarrsize, yarrsize), dtype = complex) #array [Period, xval, yval]\n",
    "    YarrForward = np.zeros((Periods, yarrsize))  \n",
    "    XarrForward = np.zeros((Periods, xarrsize))           \n",
    "    \n",
    "    for x in range(Periods):\n",
    "        EYholder = fdtd.getdata(\"field_profile-{}\".format(x), \"Ey\")\n",
    "        Yholder = fdtd.getdata(\"field_profile-{}\".format(x), \"y\")\n",
    "        Xholder = fdtd.getdata(\"field_profile-{}\".format(x), \"x\")\n",
    "        Xmax = np.linspace(Xholder[x0point,0], Xholder[-1,0], xarrsize) #interpolates x to xarrsize\n",
    "        Ymax = np.linspace(Yholder[0,0], Yholder[-1,0], yarrsize) #interpolates y to yarrsize\n",
    "        X, Y = Xholder[x0point:,0], Yholder[:,0] \n",
    "        YarrForward[x] = Ymax\n",
    "        XarrForward[x] = Xmax\n",
    "        EY_real = np.real(EYholder[x0point:,:,0,0])\n",
    "        EY_imag = np.imag(EYholder[x0point:,:,0,0])\n",
    "        ip2d_real = interpolate.RectBivariateSpline(X, Y, EY_real) #interpolates Re{Ey}\n",
    "        ip2d_imag = interpolate.RectBivariateSpline(X, Y, EY_imag) #interpolates Im{Ey} \n",
    "        EY_real2 = ip2d_real(Xmax, Ymax)\n",
    "        EY_imag2 = ip2d_imag(Xmax, Ymax)\n",
    "        EYarrForward[x] = EY_real2 + 1j*EY_imag2 #recombines the interpolated Ey\n",
    "        \n",
    "    fdtd.switchtolayout()\n",
    "    fdtd.select(\"source_1\")\n",
    "    fdtd.delete()\n",
    "    fdtd.unselectall()\n",
    "\n",
    "    return EYarrForward, YarrForward, XarrForward, x0point "
   ]
  },
  {
   "cell_type": "code",
   "execution_count": 42,
   "id": "5a510095",
   "metadata": {},
   "outputs": [],
   "source": [
    "def adjoint_sim():\n",
    "    '''\n",
    "    \n",
    "    This function sets up and adds the adjoint source, saves the lsf file, runs the simulation, retrieves the data, \n",
    "    does some computation and then returns the data. \n",
    "    \n",
    "    '''\n",
    "    #have to add custom plane wave source with different params to mimic the electron beam/dipole \n",
    "    Ex = Ey*0.0\n",
    "    Ez = Ey*0.0\n",
    "    \n",
    "    \n",
    "    fdtd.addimportedsource()\n",
    "    fdtd.set('name', 'source_2')\n",
    "    \n",
    "    fdtd.putv('x',x_adj_arr)\n",
    "    fdtd.putv('y',y_adj_arr)\n",
    "    fdtd.putv('z',z_adj_arr)\n",
    "    fdtd.putv('Ex',Ex)\n",
    "    fdtd.putv('Ey',Ey)\n",
    "    fdtd.putv('Ez',Ez)\n",
    "    fdtd.putv('f',f)\n",
    "    fdtd.putv('c',c)\n",
    "    fdtd.eval('EM = rectilineardataset(\"EM fields\",x,y,z); EM.addparameter(\"lambda\",c/f,\"f\",f); EM.addattribute(\"E\",Ex,Ey,Ez); select(\"source_2\"); importdataset(EM);')\n",
    "    \n",
    "    configuration = (    \n",
    "            (\"source_2\", ((\"amplitude\", 1.0),\n",
    "                        (\"phase\", Adjoint_phase),\n",
    "                        (\"injection axis\", \"x\"),\n",
    "                        (\"direction\", \"Forward\"),\n",
    "                        (\"y\", FDTDyspan/2),\n",
    "                        (\"x\", 0.0), \n",
    "                        (\"z\", 1.5e-6),\n",
    "                        (\"center wavelength\", 1.932e-6),\n",
    "                        (\"wavelength span\", 0.0))),\n",
    "            )\n",
    "    for obj, parameters in configuration:\n",
    "        for k, v in parameters:\n",
    "            fdtd.setnamed(obj, k, v)\n",
    "    \n",
    "    print(Adjoint_phase)\n",
    "    \n",
    "    fdtd.save(\"AdjointSimTest-1.fsp\")\n",
    "    fdtd.run()\n",
    "    EYsize = fdtd.getdata(\"field_profile-0\", \"Ey\") #array [xvals, yvals, z, lambda]\n",
    "    x0point = EYsize.shape[0]//2\n",
    "    EYarrAdj = np.zeros((Periods, xarrsize, yarrsize), dtype = complex)\n",
    "    YarrAdj = np.zeros((Periods, yarrsize))  \n",
    "    for x in range(Periods):\n",
    "        EYholder = fdtd.getdata(\"field_profile-{}\".format(x), \"Ey\")\n",
    "        Yholder = fdtd.getdata(\"field_profile-{}\".format(x), \"y\")\n",
    "        Xholder = fdtd.getdata(\"field_profile-{}\".format(x), \"x\")\n",
    "        Xmax = np.linspace(Xholder[x0point,0], Xholder[-1,0], xarrsize) #interpolates x to xarrsize\n",
    "        Ymax = np.linspace(Yholder[0,0], Yholder[-1,0], yarrsize) #interpolates y to yarrsize\n",
    "        X, Y = Xholder[x0point:,0], Yholder[:,0]\n",
    "        YarrAdj[x] = Ymax\n",
    "        EY_real = np.real(EYholder[x0point:,:,0,0])\n",
    "        EY_imag = np.imag(EYholder[x0point:,:,0,0])\n",
    "        ip2d_real = interpolate.RectBivariateSpline(X, Y, EY_real) #interpolates Re{Ey}\n",
    "        ip2d_imag = interpolate.RectBivariateSpline(X, Y, EY_imag) #interpolates Im{Ey}   \n",
    "        EY_real2 = ip2d_real(Xmax, Ymax)\n",
    "        EY_imag2 = ip2d_imag(Xmax, Ymax)\n",
    "        EYarrAdj[x] = EY_real2 + 1j*EY_imag2 #recombines Ey\n",
    "        \n",
    "    fdtd.switchtolayout()\n",
    "    fdtd.select(\"source_2\")\n",
    "    fdtd.delete()\n",
    "    fdtd.unselectall()    \n",
    "    \n",
    "    \n",
    "        \n",
    "    return EYarrAdj, YarrAdj #[xvals, yvals] [ypos]"
   ]
  },
  {
   "cell_type": "code",
   "execution_count": 43,
   "id": "57a60aed",
   "metadata": {},
   "outputs": [],
   "source": [
    "def FourierFunc(Ey):\n",
    "    '''\n",
    "    \n",
    "    This function performs the fourier transform on the fields from time domain to spatial. It takes in a complex Ey for\n",
    "    a given cell and does the fft and selects the first non-DC harmonic. \n",
    "    \n",
    "    '''\n",
    "    \n",
    "    EyF = fft(Ey) #scipy fft\n",
    "    N = yarrsize #size of Ey\n",
    "    EyFm = (2.0/N * EyF) #normalization of Ey given the size\n",
    "    \n",
    "    return EyFm[1] # first spatial harmonic"
   ]
  },
  {
   "cell_type": "code",
   "execution_count": 44,
   "id": "5fb3fd84",
   "metadata": {},
   "outputs": [],
   "source": [
    "def get_eps_matrix():\n",
    "    '''\n",
    "    \n",
    "    This function retrieves and returns the complex refractive index from the index monitors. \n",
    "    \n",
    "    '''\n",
    "    full_eps_matrix = np.zeros((Periods, xarrsize, yarrsize), dtype = complex)\n",
    "    for j in range(Periods):\n",
    "        ntest = fdtd.getresult(\"index_monitor-{}\".format(j),\"index\")\n",
    "        ny = np.squeeze(np.squeeze(np.array(ntest[\"index_y\"][x0point:,:]), axis=2), axis=2)\n",
    "        X, Y = ntest['x'][x0point:,0], ntest['y'][:,0]\n",
    "        Xmax = np.linspace(ntest['x'][x0point,0], ntest['x'][-1,0], xarrsize) #interpolates x to xarrsize\n",
    "        Ymax = np.linspace(ntest['y'][0,0], ntest['y'][-1,0], yarrsize)  #interpolates y to yarrsize\n",
    "        n_real = np.real(ny)\n",
    "        n_imag = np.imag(ny)\n",
    "        ip2d_real = interpolate.RectBivariateSpline(X, Y, n_real) #interpolates Re{n}\n",
    "        ip2d_imag = interpolate.RectBivariateSpline(X, Y, n_imag) #interpolates Im{n}\n",
    "        n_real2 = ip2d_real(Xmax, Ymax)\n",
    "        n_imag2 = ip2d_imag(Xmax, Ymax)\n",
    "        full_eps_matrix[j] = n_real2 + 1j*n_imag2 #recombines complex refractive index\n",
    "        \n",
    "    return full_eps_matrix  "
   ]
  },
  {
   "cell_type": "code",
   "execution_count": 45,
   "id": "d7b51807",
   "metadata": {},
   "outputs": [],
   "source": [
    "def conversion_func(j, y_pos, prev_period):\n",
    "    '''\n",
    "    I was using this to keep relative ypos when periodicity was a dynamic parameter.\n",
    "    '''\n",
    "    y_rel = (y_pos - np.sum(prev_period[:j]))\n",
    "    y_ratio = y_rel/prev_period[j]\n",
    "    return y_ratio"
   ]
  },
  {
   "cell_type": "code",
   "execution_count": 46,
   "id": "a6f757c7",
   "metadata": {},
   "outputs": [],
   "source": [
    "def stepping_func(k, R, Gw):\n",
    "    '''\n",
    "    \n",
    "    This function is what increments the parameters before taking delta epsilon. Becasuse of how the gradient is calculated\n",
    "    all constraints, weights, or modifications to the gradient for optimization purposes has to be done here. Since the gradient\n",
    "    is calculated for the entire structure and there are interactions between the cells, the gradient cannot be modified after\n",
    "    it has been calculated without losing information. \n",
    "    \n",
    "    Takes parameter number (k), parameter array (R), and weights array (Gw) as arguments and returns an updated, constrained\n",
    "    bounded, weighted, paramter array (R).\n",
    "    \n",
    "    '''\n",
    "    \n",
    "    \n",
    "    rng=20e-9\n",
    "    \n",
    "    \n",
    "    if k == 0:\n",
    "        for j in range(Periods):\n",
    "            #constrains rx\n",
    "            constrained_rng = constraint_fun(x_cons_var, x_cons_val, len(x_cons_var)//Periods, j, k, R.flatten(), rng)\n",
    "            constrained_rng *= Gw[j]*np.abs(gradam[j,k])\n",
    "            R[j,k] = R[j,k] + constrained_rng\n",
    "    elif k == 1:\n",
    "        for j in range(Periods):\n",
    "            #constrains ry\n",
    "            constrained_rng = constraint_fun(y_cons_var, y_cons_val, len(y_cons_var)//Periods, j, k, R.flatten(), rng)\n",
    "            constrained_rng *= Gw[j]*np.abs(gradam[j,k])\n",
    "            R[j,k] = R[j,k] + constrained_rng\n",
    "    elif k == 2:\n",
    "        for j in range(Periods):\n",
    "            #constrains ypos \n",
    "            constrained_rng = constraint_fun2(ypos_cons_var, ypos_cons_val, len(ypos_cons_var)//Periods, j, k, R.flatten(), rng)\n",
    "            constrained_rng *= Gw[j]*np.abs(gradam[j,k])\n",
    "            R[j,k] = R[j,k] + constrained_rng\n",
    "    '''        \n",
    "    elif k == 3:\n",
    "        # was used to maintain the relative y_pos when the period size was incremented\n",
    "        prev_period_array = R[:,3].copy()\n",
    "        for j in range(lockin-3,Periods):\n",
    "            R[j][k] = R[j][k] + rng\n",
    "            y_ratio = conversion_func(j, R[j][2], max_Periods_array) #maintains the realtive position of ypos\n",
    "            R[j,2] = R[j,3]*y_ratio + np.sum(R[:j,3])\n",
    "    '''               \n",
    "                \n",
    "    lobounds = bnds[0]\n",
    "    for j in range(Periods):\n",
    "        lobounds[j][2] = np.sum(max_Periods_array[:j]) + R[j][1]\n",
    "\n",
    "    hibounds = bnds[1]\n",
    "    for j in range(Periods):\n",
    "        hibounds[j][2] = np.sum(max_Periods_array[:j+1]) - R[j][1]\n",
    "        \n",
    "\n",
    "    R1 = R.flatten()\n",
    "\n",
    "    lobounds = lobounds.flatten()\n",
    "    hibounds = hibounds.flatten()\n",
    "    #apply hard boundaries to parameter values\n",
    "    for z in range(len(R1)):\n",
    "        if R1[z] > hibounds[z]:\n",
    "            R1[z] = hibounds[z]\n",
    "        elif R1[z] < lobounds[z]:\n",
    "            R1[z] = lobounds[z]\n",
    "        \n",
    "    R = np.reshape(R1, (Periods,number_of_params))        \n",
    "            \n",
    "    return R"
   ]
  },
  {
   "cell_type": "code",
   "execution_count": 47,
   "id": "becad1c2",
   "metadata": {},
   "outputs": [],
   "source": [
    "def delta_eps_phi(eps_phi, R, eps0):\n",
    "    \n",
    "    '''\n",
    "    \n",
    "    This function calculates delta epsilon/delta phi from Manuel thesis eq. 15\n",
    "    \n",
    "    Takes epsilon matrix, parameter array, and epsilon_0 matrix as arguments and returns an updated epsilon matrix\n",
    "    and a copy of the initial parameters array. \n",
    "    \n",
    "    '''\n",
    "    # have to set multiple r's because I was having issues with python deep copies, I wanted 2 arrays, one that would be \n",
    "    # incremented and updated and a copy of the intitial so that each parameter could be incremented individually and reset\n",
    "    # so as to take the gradient wrt each parameter....\n",
    "    r1 = R.copy()\n",
    "    r2 = r1.copy()\n",
    "    rguesscopy = r1.copy()\n",
    "    \n",
    "    # calculate weights based on tolerance paramter\n",
    "    Gweights = mappingfunc(prev_G)\n",
    "    Gweights = np.reshape(Gweights,(Periods,1))\n",
    "\n",
    "    for k in range(number_of_params):\n",
    "        r1 = stepping_func(k, r2, Gweights)\n",
    "        build_structure(r1) # build structure and get eps \n",
    "        monitors_func(max_Periods_array)\n",
    "        eps_phi[k] = get_eps_matrix() \n",
    "        eps_phi[k] = eps_phi[k] - eps0  #deltaepsilon/delta phi\n",
    "        r2 = rguesscopy.copy()   # reset to original params (makes a copy of r guess to go back to each time)\n",
    "        delete_structure()\n",
    "        \n",
    "    return eps_phi, rguesscopy"
   ]
  },
  {
   "cell_type": "code",
   "execution_count": 48,
   "id": "495f6956",
   "metadata": {},
   "outputs": [],
   "source": [
    "def calcs(deps_dphi_n, EyF, EyA, yvals, xvals):\n",
    "    '''\n",
    "    \n",
    "    This function calculates the gradient of each period dG/dphi eq. 18 in Manuel. \n",
    "\n",
    "    Takes deps_dphi, e1 values, adjoint fields, y values and x values and returns d_G/d_phi_n. \n",
    "    \n",
    "    \n",
    "    '''\n",
    "\n",
    "    deps_dphi_n_copy = deps_dphi_n.copy()\n",
    "    Eproduct = np.zeros_like(EyA, dtype=complex)\n",
    "    for j in range(Periods):\n",
    "        Eproduct[j] = EyF[j]*EyA[j] #e1 values * Adjoint field\n",
    "    constants = -2*(2*np.pi/lml)**2 \n",
    "    for j in range(Periods):\n",
    "        deps_dphi_n_copy[:,j,:,:] = deps_dphi_n[:,j,:,:]*Eproduct[j]\n",
    "    dG_dphi_n = np.zeros((number_of_params, Periods), dtype='complex')\n",
    "    for l in range(number_of_params):\n",
    "        for m in range(Periods):\n",
    "            int_2d = np.trapz(np.trapz(deps_dphi_n_copy[l,m,:,:], xvals[m], axis=0), yvals[m], axis=0) #integrates the fields\n",
    "            #over the length of the structure\n",
    "            dG_dphi_n[l,m] = int_2d #labeled param num, Period num, x,y values have been integrated out \n",
    "    dG_dphi_n = dG_dphi_n\n",
    "    \n",
    "    dG_dphi_n_reshape = np.zeros((Periods,number_of_params)) #reshapes to [Periods, params]\n",
    "    for j in range(dG_dphi_n.shape[0]):\n",
    "        for k in range(dG_dphi_n.shape[1]):\n",
    "            dG_dphi_n_reshape[k,j] = np.real(dG_dphi_n[j,k])\n",
    "    \n",
    "    dG_dphi_n_reshape = dG_dphi_n_reshape.copy()*constants \n",
    "    \n",
    "    return dG_dphi_n_reshape"
   ]
  },
  {
   "cell_type": "code",
   "execution_count": 49,
   "id": "a8de04a5",
   "metadata": {},
   "outputs": [],
   "source": [
    "def func(rmin):\n",
    "    '''\n",
    "    \n",
    "    This is the main function which is run by the optimizer. It takes the flattened parameter array as its input and \n",
    "    returns deltaG and dG_dphi to calculate the gradient. It opens and closes a new lumerical window every time. It runs\n",
    "    the forward simulation, adjoint simulation, gathers the epsilon matrix and calculates dG_dphi. \n",
    "    \n",
    "    '''\n",
    "    rguess = np.reshape(rmin.copy(), (Periods,number_of_params)) #Periods x Params initial value array\n",
    "    rarr.append(rguess)\n",
    "    global preperarr\n",
    "    global FDTDyspan\n",
    "    global Periods_array\n",
    "    preperarr = Periods_array.copy()\n",
    "    FDTDyspan = np.sum(max_Periods_array)\n",
    "    \n",
    "    open_lumerical()    \n",
    "    build_structure(rguess)   \n",
    "    monitors_func(max_Periods_array)\n",
    "    \n",
    "    global i\n",
    "    i+=1\n",
    "    \n",
    "    EyFor, Ly, Lx, x0point = forward_sim() #Ey values, yvalues, xvalues, and the middle of the x array due to symmetric boundary\n",
    "\n",
    "    EyFmax_forward = np.ones((Periods), dtype=complex) \n",
    "    for j in range(Periods):\n",
    "        EyFmax_forward[j] = FourierFunc(EyFor[j,0,:])\n",
    "    EyFmax_forward = EyFmax_forward/2 #divide by 2 because of symmetric boundary cond.  \n",
    "    \n",
    "    #accel_calc(max_Periods_array, EyFmax_forward)\n",
    "    #Periods_array = lml*beta_array\n",
    "    \n",
    "    global Adjoint_phase \n",
    "    #if lockin > lockin_prev:\n",
    "    Adjoint_phase = - np.angle(EyFmax_forward[0], deg=True) \n",
    "        \n",
    "    #global Ey, y_adj_arr\n",
    "    #Ey, y_adj_arr = adjoint_source_calc(max_Periods_array) this is only needed if Periods_array becomes a dynamic variable again\n",
    "    EyAdj, yAdj = adjoint_sim()\n",
    "\n",
    "    eps0 = get_eps_matrix()\n",
    "    delete_structure()\n",
    "    eps_phi = np.zeros((number_of_params, Periods, xarrsize, yarrsize), dtype='complex') \n",
    "    deps_dphi_n = np.zeros((number_of_params, Periods, xarrsize, yarrsize), dtype='complex') #param number, period number, lx, ly    \n",
    "    deps_dphi, rguesscopy = delta_eps_phi(eps_phi, rguess, eps0)\n",
    "\n",
    "    dG_dphi_n = calcs(deps_dphi, EyFmax_forward, EyAdj, Ly, Lx)\n",
    "    \n",
    "    #G_n = delta_W.copy() if its decided to use energy change as the design curve/cost function\n",
    "\n",
    "    G_n = np.real(EyFmax_forward.copy()*np.exp(-1j * np.angle(EyFmax_forward[0])))\n",
    "    #G_n = np.reshape(G_n,(Periods,1))\n",
    "    #kernel_size = 3\n",
    "    #kernel = np.ones(kernel_size) / kernel_size\n",
    "    #G_conv = np.convolve(G_n.flatten(), kernel, mode='same')\n",
    "    #G_conv[0] = np.sum(G_n[:2])/2\n",
    "    #G_conv[-1] = np.sum(G_n[-2:])/2\n",
    "    #G_n = np.reshape(G_conv,(Periods,1)) #smoothes e1 values with a rolling mean of 3 (2 at boundaries) to reduce transient \n",
    "                                        # source interference\n",
    "\n",
    "    eholder = G_n.flatten() #cant append unless its a flat array\n",
    "    deltaGd = G_n-d_n\n",
    "    #deltaGd[:15] = 0.0\n",
    "    #deltaGd[-15:] = 0.0\n",
    "    deltaGd = - np.reshape(deltaGd,(Periods,1)) #allows matrix manipulations rather than having to loop\n",
    "    e.append(eholder)\n",
    "    #print(G_n, dG_dphi_n)\n",
    "    fdtd.deleteall()\n",
    "    np.savetxt(\"final-single-pillar-optimization.txt\", np.array(e))\n",
    "    #save rarr?\n",
    "    \n",
    "    return deltaGd, dG_dphi_n , eholder"
   ]
  },
  {
   "cell_type": "code",
   "execution_count": 50,
   "id": "3b48acc7",
   "metadata": {},
   "outputs": [],
   "source": [
    "deltaRx = 20e-9\n",
    "deltaRy = 20e-9\n",
    "RxMax = 230e-9\n",
    "RxMin = 110e-9\n",
    "RyMax = 230e-9\n",
    "RyMin = 110e-9\n",
    "\n",
    "deltayMin = lambda j=j: (0.25*Periods_array[j])+np.sum(Periods_array[:j])\n",
    "deltayMax = lambda j=j: (0.75*Periods_array[j])+np.sum(Periods_array[:j])"
   ]
  },
  {
   "cell_type": "code",
   "execution_count": 51,
   "id": "4ee4db64",
   "metadata": {},
   "outputs": [],
   "source": [
    "def LEpiecewise(con_var, con_val, num_of_cons): #returns a weight based on whether a value is <= a constraint \n",
    "    return (1)/(1+np.exp(-50*(con_var/con_val - 1)))\n",
    "\n",
    "def GEpiecewise(con_var, con_val, num_of_cons): #returns a weight based on whether a value is >= a constraint \n",
    "    return (1)/(1+np.exp(-50*(con_val/con_var - 1)))\n",
    "    \n",
    "    \n",
    "def NormalizeData(data): #function that normalizes data, not used anymore\n",
    "    return (data - np.min(data) + 1e-10) / (np.max(data) - np.min(data))\n",
    "\n",
    "def constraint_fun(g_cons_var, g_cons_val, num_of_cons, idx0, idx1, params, grad):\n",
    "    '''\n",
    "    Applies constraints to rx and ry values. \n",
    "    \n",
    "    '''\n",
    "    cons_holder = np.zeros(num_of_cons)\n",
    "    for x in range(num_of_cons):\n",
    "        if g_cons_var[idx0+x*Periods]['type'] == 'less':\n",
    "            cons_holder[x] = grad*(LEpiecewise(g_cons_var[idx0+x*Periods]['fun'](params), g_cons_val[idx0+x*Periods], num_of_cons))\n",
    "        else:\n",
    "            cons_holder[x] = grad*(GEpiecewise(g_cons_var[idx0+x*Periods]['fun'](params), g_cons_val[idx0+x*Periods], num_of_cons))\n",
    "    # if multiple constraints are violated, the grad is set to zero (no negative/backwards steps)\n",
    "    if (np.sum(np.abs(cons_holder))) >= (np.abs(grad)): \n",
    "        grad = 0.0\n",
    "    else:\n",
    "        grad -= np.sum(np.abs(cons_holder))\n",
    "    \n",
    "    \n",
    "    return grad\n",
    "\n",
    "def constraint_fun2(g_cons_var, g_cons_val, num_of_cons, idx0, idx1, params, grad):\n",
    "    '''\n",
    "    Applies constraints to y_pos values. \n",
    "    \n",
    "    '''\n",
    "    cons_holder = np.zeros(num_of_cons)\n",
    "    for x in range(num_of_cons):\n",
    "        if g_cons_var[idx0+x*Periods]['type'] == 'less':\n",
    "            cons_holder[x] = grad*(LEpiecewise(g_cons_var[idx0+x*Periods]['fun'](params), g_cons_val[idx0+x*Periods](params), num_of_cons))\n",
    "        else:\n",
    "            cons_holder[x] = grad*(GEpiecewise(g_cons_var[idx0+x*Periods]['fun'](params), g_cons_val[idx0+x*Periods](params), num_of_cons))\n",
    "    # if multiple constraints are violated, the grad is set to zero (no negative/backwards steps)\n",
    "    if (np.sum(np.abs(cons_holder))) >= (np.abs(grad)):\n",
    "        grad = 0.0\n",
    "    else:\n",
    "        grad -= np.sum(np.abs(cons_holder))\n",
    "    \n",
    "    return grad"
   ]
  },
  {
   "cell_type": "code",
   "execution_count": 52,
   "id": "797fb6c7",
   "metadata": {},
   "outputs": [],
   "source": [
    "def weightingfunc(con_var, con_val):\n",
    "    '''\n",
    "    Sets the weights based on tolerance parameter. Below tolerance gets automatically set to 0. \n",
    "    '''\n",
    "    if con_var <= con_val:\n",
    "        return 0.0\n",
    "    else:\n",
    "        return (1)/(1+np.exp(-5*(con_var/con_val - 1)))\n",
    "    \n",
    "    \n",
    "def mappingfunc(Gd):\n",
    "    \n",
    "    '''\n",
    "    Sets the weights based on delta_G values of several periods in order to account for short range interactions.\n",
    "    '''\n",
    "    '''\n",
    "    w_to_G = np.zeros(Periods)\n",
    "    \n",
    "    global lockin\n",
    "    global lockin_prev\n",
    "    lockin_prev = lockin\n",
    "    \n",
    "    \n",
    "    G_to_w = np.sum(np.abs(Gd[lockin:lockin+3])) #the delta_G values of 3 neighboring cells is used to compute weights\n",
    "    w = weightingfunc(G_to_w, tol)\n",
    "\n",
    "    for j in range(lockin,Periods, 3):\n",
    "        w_to_G[j-2:j+5] = weightingfunc(np.sum(np.abs(Gd[j:j+3])), tol)\n",
    "    \n",
    "    w_to_G[lockin-2:lockin+5] = w #allows greater freedom for cells beyond the 3 neighbors to again account for interactions\n",
    "    w_to_G[:5] = w_to_G[5]/2 #try to ignore the first few cells because they have strong edge effects\n",
    "    \n",
    "    #locks in the parameters if their delta_G values are below a tolerance\n",
    "    if w == 0.0:\n",
    "        if np.flatnonzero(w_to_G[lockin_prev:]).size == 0:\n",
    "            lockin += 3\n",
    "        else:\n",
    "            lockin = np.flatnonzero(w_to_G[lockin_prev:])[0] #the first non-zero element in w2G after lockin \n",
    "    \n",
    "\n",
    "    w_prev1 = w \n",
    "    #print(w_to_G)\n",
    "    '''\n",
    "    w_to_G = np.ones(Periods)\n",
    "           \n",
    "    return w_to_G"
   ]
  },
  {
   "cell_type": "code",
   "execution_count": 53,
   "id": "be3a92fd",
   "metadata": {},
   "outputs": [],
   "source": [
    "def step_adam(gradient, mopt_old, vopt_old, iteration, beta1, beta2, epsilon=1e-20):\n",
    "    \n",
    "    \"\"\" Performs one step of adam optimization\"\"\"\n",
    "\n",
    "    mopt = beta1 * mopt_old + (1 - beta1) * gradient\n",
    "    mopt_t = mopt / (1 - beta1**(iteration + 1))\n",
    "    vopt = beta2 * vopt_old + (1 - beta2) * (np.square(gradient))\n",
    "    vopt_t = vopt / (1 - beta2**(iteration + 1))\n",
    "    grad_adam = mopt_t / (np.sqrt(vopt_t) + epsilon)\n",
    "\n",
    "    return (grad_adam, mopt, vopt)"
   ]
  },
  {
   "cell_type": "code",
   "execution_count": 54,
   "id": "618540ad",
   "metadata": {},
   "outputs": [],
   "source": [
    "def adam_optimize(objective, parameters, bounds, step_size=20.0e-9, Nsteps=50, direction='min'):\n",
    "    '''\n",
    "    \n",
    "    Performs Nsteps steps of optimization of function `objective` with gradient `jac`.\n",
    "    \n",
    "    '''\n",
    "    paramsarray = []\n",
    "    params1 = np.array(parameters.copy())\n",
    "    best_G = 0.0\n",
    "    best_params = np.full_like(params1, 0.0)\n",
    "    best_G_n = np.full((Periods), 0.0)\n",
    "    prev_Gw = 1.0\n",
    "    wprev = 1.0\n",
    "    global iteration\n",
    "    global gradam \n",
    "    global mopt\n",
    "    global vopt\n",
    "    beta1=0.9 \n",
    "    beta2=0.999\n",
    "    gradam = np.ones((Periods,number_of_params))\n",
    "\n",
    "    for iteration in range(Nsteps):\n",
    "\n",
    "\n",
    "        deltaGd, grad, G_n = objective(params1)\n",
    "        \n",
    "        dG_dphi = 2*deltaGd*grad  #eq 20 from manuel\n",
    "        G = np.sum(deltaGd**2) #eq 7 from manuel\n",
    "        grad = np.reshape(dG_dphi.copy(), (Periods, number_of_params))\n",
    "        params2 = np.reshape(params1.copy(), (Periods,number_of_params))\n",
    "        paramsarray.append(params2)\n",
    "        \n",
    "        if G >= best_G: #this needs to be >= for max and <= for min\n",
    "            best_G = G.copy()\n",
    "            best_params = params1.copy()\n",
    "            best_G_n = G_n.copy()\n",
    "            \n",
    "    \n",
    "        if iteration == 0:\n",
    "            mopt = 0.0\n",
    "            vopt = 0.0\n",
    "    \n",
    "    \n",
    "        step1 = step_size*grad*1000 #an observational value that generally allows the step size to be close to what we want\n",
    "        \n",
    "        gradam = step1/step_size\n",
    "        (gradam, mopt, vopt) = step_adam(gradam, mopt, vopt, iteration, beta1, beta2)\n",
    "        \n",
    "        grad = grad.flatten()  \n",
    "\n",
    "        print(step1, deltaGd)\n",
    "        \n",
    "        step1 = step1.flatten()\n",
    "        \n",
    "        if direction == 'min':\n",
    "            params1 -= step1\n",
    "        elif direction == 'max':\n",
    "            params1 += step1\n",
    "        else:\n",
    "            raise ValueError(\"The 'direction' parameter should be either 'min' or 'max'\")\n",
    "        \n",
    "        params1 = np.reshape(params1, (Periods,number_of_params))\n",
    "        #print(params1)                \n",
    "        params1 = params1.flatten()\n",
    "            \n",
    "    return best_params, best_G, best_G_n"
   ]
  },
  {
   "cell_type": "code",
   "execution_count": 55,
   "id": "24a1c878",
   "metadata": {},
   "outputs": [],
   "source": [
    "num_x_cons = 3 #number of x constraints\n",
    "num_y_cons = 3 #number of y constraints\n",
    "num_ypos_con = 2 #number of ypos constraints\n",
    "x_cons_var = []    \n",
    "x_cons_val = []\n",
    "y_cons_var = []    \n",
    "y_cons_val = []\n",
    "ypos_cons_var = []\n",
    "ypos_cons_val = []\n",
    "for j in range(Periods-1):    #neighboring Rx differ by less than 20nm\n",
    "    x_cons_var.append({'type' : 'less', 'fun' : lambda x, j=j: np.abs(x[number_of_params*j+number_of_params] - x[number_of_params*j])}) \n",
    "    x_cons_val.append(deltaRx)\n",
    "x_cons_var.append({'type' : 'less', 'fun' : lambda x, j=j: np.abs(x[number_of_params*(Periods-1)] - x[0])})\n",
    "x_cons_val.append(deltaRx)\n",
    "\n",
    "for j in range(Periods-1):   #neighboring Ry differ by less than 20nm\n",
    "    y_cons_var.append({'type' : 'less', 'fun' : lambda x, j=j: np.abs(x[number_of_params*j+1+number_of_params] - x[number_of_params*j+1])})  \n",
    "    y_cons_val.append(deltaRy)\n",
    "y_cons_var.append({'type' : 'less', 'fun' : lambda x, j=j: np.abs(x[number_of_params*(Periods-1)+1] - x[1])})\n",
    "y_cons_val.append(deltaRy)\n",
    "\n",
    "for j in range(Periods):    # Rx less than 300nm\n",
    "    x_cons_var.append({'type' : 'less', 'fun' : lambda x, j=j: x[number_of_params*j]}) \n",
    "    x_cons_val.append(RxMax)\n",
    "    \n",
    "for j in range(Periods):    # Ry less than 300nm\n",
    "    y_cons_var.append({'type' : 'less', 'fun' : lambda x, j=j: x[number_of_params*j+1]})\n",
    "    y_cons_val.append(RyMax)\n",
    "    \n",
    "for j in range(Periods):    # Rx greater than 100nm\n",
    "    x_cons_var.append({'type' : 'greater', 'fun' : lambda x, j=j: x[number_of_params*j]})\n",
    "    x_cons_val.append(RxMin)\n",
    "    \n",
    "for j in range(Periods):    # Ry greater than 100nm\n",
    "    y_cons_var.append({'type' : 'greater', 'fun' : lambda x, j=j: x[number_of_params*j+1]})\n",
    "    y_cons_val.append(RyMin)\n",
    "        \n",
    "for j in range(Periods):    # ypos greater than lmp dynamic constraint\n",
    "    ypos_cons_var.append({'type' : 'greater', 'fun' : lambda x, j=j: x[number_of_params*j+2]})\n",
    "    ypos_cons_val.append(lambda x, j=j: np.sum(max_Periods_array[:j]) + x[number_of_params*j+1])\n",
    "    \n",
    "for j in range(Periods):    # ypos less than 2lmp dynamic constraint\n",
    "    ypos_cons_var.append({'type' : 'less', 'fun' : lambda x, j=j: x[number_of_params*j+2]})\n",
    "    ypos_cons_val.append(lambda x, j=j: np.sum(max_Periods_array[:j+1]) - x[number_of_params*j+1])\n"
   ]
  },
  {
   "cell_type": "code",
   "execution_count": 56,
   "id": "6a48ea68",
   "metadata": {},
   "outputs": [
    {
     "data": {
      "text/plain": [
       "150.0"
      ]
     },
     "execution_count": 56,
     "metadata": {},
     "output_type": "execute_result"
    }
   ],
   "source": [
    "ghb = round((lmp/2*0.75)*1e9, -1)\n",
    "glb = round((lmp/2*0.25)*1e9, -1)\n",
    "ghb-glb"
   ]
  },
  {
   "cell_type": "code",
   "execution_count": 57,
   "id": "edec64ce",
   "metadata": {},
   "outputs": [],
   "source": [
    "#create arrays for the boundaries \n",
    "\n",
    "lobounds = np.full((Periods, number_of_params), [90e-9, 90e-9, lmp/2])\n",
    "for j in range(Periods):\n",
    "    lobounds[j][2] = np.sum(Periods_array[:j]) + lobounds[j][2]\n",
    "\n",
    "hibounds = np.full((Periods, number_of_params), [250e-9, 250-9, lmp/2])\n",
    "for j in range(Periods):\n",
    "    hibounds[j][2] = np.sum(Periods_array[:j]) + hibounds[j][2]\n",
    "    \n",
    "bnds = np.stack((lobounds, hibounds))"
   ]
  },
  {
   "cell_type": "code",
   "execution_count": 41,
   "id": "93949ba0",
   "metadata": {},
   "outputs": [
    {
     "data": {
      "text/plain": [
       "220.0"
      ]
     },
     "execution_count": 41,
     "metadata": {},
     "output_type": "execute_result"
    }
   ],
   "source": [
    "grid_size = int(round((ghb-glb)/10,-1))\n",
    "grid_size\n",
    "ghb"
   ]
  },
  {
   "cell_type": "code",
   "execution_count": 31,
   "id": "3459d9fc",
   "metadata": {},
   "outputs": [
    {
     "data": {
      "text/plain": [
       "array([6.27973940e-02, 6.72249322e-02, 9.26410036e-02, 1.81877923e-01,\n",
       "       2.35167670e-01, 3.12850407e-01, 9.26438151e-01, 1.70337744e-02,\n",
       "       4.72462657e-01, 1.15457197e+00, 4.88556349e-02, 1.66805841e-03,\n",
       "       8.60039508e-01, 2.97197572e-02, 3.60997561e-02, 7.03442426e-05])"
      ]
     },
     "execution_count": 31,
     "metadata": {},
     "output_type": "execute_result"
    }
   ],
   "source": [
    "np.array(np.loadtxt(\"retvalarray_nonperiodic-ramp.txt\"))"
   ]
  },
  {
   "cell_type": "code",
   "execution_count": null,
   "id": "e169f963",
   "metadata": {},
   "outputs": [],
   "source": []
  },
  {
   "cell_type": "code",
   "execution_count": 32,
   "id": "4f2cc22c",
   "metadata": {},
   "outputs": [],
   "source": [
    "NPbasinarray = np.array(np.loadtxt(\"basinarray_singlepillar-superposition.txt\"))"
   ]
  },
  {
   "cell_type": "code",
   "execution_count": null,
   "id": "637e18c0",
   "metadata": {},
   "outputs": [],
   "source": []
  },
  {
   "cell_type": "code",
   "execution_count": 32,
   "id": "8dcd795b",
   "metadata": {},
   "outputs": [],
   "source": [
    "optresult = np.array(np.loadtxt(\"optimizedresult-singlepillar-1.txt\"))"
   ]
  },
  {
   "cell_type": "code",
   "execution_count": null,
   "id": "669521ad",
   "metadata": {},
   "outputs": [],
   "source": []
  },
  {
   "cell_type": "code",
   "execution_count": null,
   "id": "ebc130a7",
   "metadata": {},
   "outputs": [],
   "source": []
  },
  {
   "cell_type": "code",
   "execution_count": 122,
   "id": "2f309b1a",
   "metadata": {},
   "outputs": [],
   "source": [
    "NP_e1_array = np.array(np.loadtxt(\"e1_array_030.txt\"))\n",
    "NPRARR = np.array(np.loadtxt(\"R_array_030.txt\"))"
   ]
  },
  {
   "cell_type": "code",
   "execution_count": 123,
   "id": "27175b31",
   "metadata": {},
   "outputs": [
    {
     "data": {
      "text/plain": [
       "(0.21824774042729173, array([7.000e-08, 1.800e-07, 2.898e-07]))"
      ]
     },
     "execution_count": 123,
     "metadata": {},
     "output_type": "execute_result"
    }
   ],
   "source": [
    "NP_e1_array[np.argmax(NP_e1_array)], NPRARR[np.argmax(NP_e1_array)]"
   ]
  },
  {
   "cell_type": "code",
   "execution_count": null,
   "id": "7eec7622",
   "metadata": {},
   "outputs": [],
   "source": [
    "NPRARR[60:380]"
   ]
  },
  {
   "cell_type": "code",
   "execution_count": 124,
   "id": "503c6b84",
   "metadata": {},
   "outputs": [],
   "source": [
    "import pandas as pd"
   ]
  },
  {
   "cell_type": "code",
   "execution_count": 138,
   "id": "86e16347",
   "metadata": {},
   "outputs": [],
   "source": [
    "df = pd.DataFrame(NP_e1_array)\n",
    "dfR = pd.DataFrame(NPRARR, columns=['Rx', 'Ry', 'ypos'])"
   ]
  },
  {
   "cell_type": "code",
   "execution_count": null,
   "id": "dbf73985",
   "metadata": {},
   "outputs": [],
   "source": []
  },
  {
   "cell_type": "code",
   "execution_count": 139,
   "id": "5f0e5add",
   "metadata": {},
   "outputs": [],
   "source": [
    "dfR = dfR[(dfR.Ry <= 250e-9) & (dfR.Ry >= 100e-9)]"
   ]
  },
  {
   "cell_type": "code",
   "execution_count": 140,
   "id": "8abd7b8a",
   "metadata": {},
   "outputs": [],
   "source": [
    "dfR = dfR[(dfR.Rx <= 250e-9) & (dfR.Rx >= 100e-9)]"
   ]
  },
  {
   "cell_type": "code",
   "execution_count": 131,
   "id": "f5568f81",
   "metadata": {},
   "outputs": [],
   "source": [
    "df2 = dfR.drop(dfR[(dfR.Ry > 250e-9) & (dfR.Ry < 100e-9)].index)"
   ]
  },
  {
   "cell_type": "code",
   "execution_count": 142,
   "id": "1f75bdd1",
   "metadata": {},
   "outputs": [
    {
     "data": {
      "text/plain": [
       "Int64Index([ 63,  64,  65,  66,  67,  68,  69,  70,  71,  72,\n",
       "            ...\n",
       "            369, 370, 371, 372, 373, 374, 375, 376, 377, 378],\n",
       "           dtype='int64', length=256)"
      ]
     },
     "execution_count": 142,
     "metadata": {},
     "output_type": "execute_result"
    }
   ],
   "source": []
  },
  {
   "cell_type": "code",
   "execution_count": 144,
   "id": "7f9c94d1",
   "metadata": {},
   "outputs": [],
   "source": [
    "df2 = df.loc[dfR.index]"
   ]
  },
  {
   "cell_type": "code",
   "execution_count": 148,
   "id": "ea77c86c",
   "metadata": {},
   "outputs": [
    {
     "data": {
      "text/plain": [
       "(0    0.181786\n",
       " dtype: float64,\n",
       " 0    70\n",
       " dtype: int64)"
      ]
     },
     "execution_count": 148,
     "metadata": {},
     "output_type": "execute_result"
    }
   ],
   "source": [
    "df2.max(), df2.idxmax()"
   ]
  },
  {
   "cell_type": "code",
   "execution_count": 151,
   "id": "9c9da916",
   "metadata": {},
   "outputs": [
    {
     "data": {
      "text/plain": [
       "Rx      1.000000e-07\n",
       "Ry      1.700000e-07\n",
       "ypos    2.898000e-07\n",
       "Name: 70, dtype: float64"
      ]
     },
     "execution_count": 151,
     "metadata": {},
     "output_type": "execute_result"
    }
   ],
   "source": [
    "dfR.loc[70]"
   ]
  },
  {
   "cell_type": "code",
   "execution_count": null,
   "id": "de577b89",
   "metadata": {},
   "outputs": [],
   "source": []
  },
  {
   "cell_type": "code",
   "execution_count": null,
   "id": "72c04679",
   "metadata": {},
   "outputs": [],
   "source": []
  },
  {
   "cell_type": "code",
   "execution_count": null,
   "id": "afb6b4a4",
   "metadata": {},
   "outputs": [],
   "source": []
  },
  {
   "cell_type": "code",
   "execution_count": 152,
   "id": "6f77d802",
   "metadata": {},
   "outputs": [
    {
     "data": {
      "text/plain": [
       "array([0.18677553])"
      ]
     },
     "execution_count": 152,
     "metadata": {},
     "output_type": "execute_result"
    }
   ],
   "source": [
    "best_Gn"
   ]
  },
  {
   "cell_type": "code",
   "execution_count": null,
   "id": "304cee26",
   "metadata": {},
   "outputs": [],
   "source": []
  },
  {
   "cell_type": "code",
   "execution_count": 60,
   "id": "99da5b17",
   "metadata": {},
   "outputs": [
    {
     "data": {
      "text/plain": [
       "array([1.03351971e-07, 1.60105434e-07, 2.89788687e-07])"
      ]
     },
     "execution_count": 60,
     "metadata": {},
     "output_type": "execute_result"
    }
   ],
   "source": [
    "optresult"
   ]
  },
  {
   "cell_type": "code",
   "execution_count": 59,
   "id": "d27549a8",
   "metadata": {},
   "outputs": [
    {
     "data": {
      "text/plain": [
       "array([0.20405925])"
      ]
     },
     "execution_count": 59,
     "metadata": {},
     "output_type": "execute_result"
    }
   ],
   "source": [
    "best_Gn"
   ]
  },
  {
   "cell_type": "code",
   "execution_count": 58,
   "id": "9e36ea1f",
   "metadata": {},
   "outputs": [
    {
     "name": "stdout",
     "output_type": "stream",
     "text": [
      "-58.90776590734143\n",
      "[[-6.64802877e-09 -9.89456640e-09 -1.13127755e-11]] [[-0.19766605]]\n",
      "-57.100763818649\n",
      "[[-5.99806288e-10 -1.02830735e-08  2.42259443e-12]] [[-0.20405925]]\n",
      "-55.50799680173314\n",
      "[[-2.89906162e-10 -9.36043462e-09 -1.10546899e-12]] [[-0.2006809]]\n",
      "-54.132763433136454\n",
      "[[-2.28039285e-10 -8.43816136e-09 -6.68496258e-11]] [[-0.19568866]]\n",
      "-52.956672436437074\n",
      "[[-1.19977832e-10 -6.85463566e-09  2.57566194e-10]] [[-0.18918073]]\n"
     ]
    }
   ],
   "source": [
    "optresult, minret, best_Gn = adam_optimize(func, rguess1, bnds, step_size=10.0e-9, Nsteps=5, direction='max')"
   ]
  },
  {
   "cell_type": "code",
   "execution_count": null,
   "id": "35d68476",
   "metadata": {},
   "outputs": [],
   "source": []
  },
  {
   "cell_type": "code",
   "execution_count": null,
   "id": "9472196e",
   "metadata": {},
   "outputs": [],
   "source": []
  },
  {
   "cell_type": "code",
   "execution_count": null,
   "id": "48d9aac0",
   "metadata": {},
   "outputs": [],
   "source": []
  },
  {
   "cell_type": "code",
   "execution_count": null,
   "id": "f5a685a4",
   "metadata": {},
   "outputs": [],
   "source": []
  },
  {
   "cell_type": "code",
   "execution_count": 102,
   "id": "a046d9de",
   "metadata": {},
   "outputs": [],
   "source": [
    "paramrange = np.array([16, 18, 20, 22])"
   ]
  },
  {
   "cell_type": "code",
   "execution_count": null,
   "id": "6953682c",
   "metadata": {},
   "outputs": [],
   "source": [
    "##### run accel calc with e[-1] and max_Periods_array then find 40.88+np.sum(dW)=total energy "
   ]
  },
  {
   "cell_type": "code",
   "execution_count": 115,
   "id": "5c22b9a6",
   "metadata": {},
   "outputs": [
    {
     "data": {
      "text/plain": [
       "array([18, 22, 16, 20])"
      ]
     },
     "execution_count": 115,
     "metadata": {},
     "output_type": "execute_result"
    }
   ],
   "source": [
    "np.random.choice(paramrange, 4, replace=False)\n"
   ]
  },
  {
   "cell_type": "code",
   "execution_count": null,
   "id": "98a5fe38",
   "metadata": {},
   "outputs": [],
   "source": []
  },
  {
   "cell_type": "code",
   "execution_count": null,
   "id": "41ceb888",
   "metadata": {},
   "outputs": [],
   "source": []
  },
  {
   "cell_type": "code",
   "execution_count": null,
   "id": "2359804a",
   "metadata": {},
   "outputs": [],
   "source": []
  },
  {
   "cell_type": "code",
   "execution_count": null,
   "id": "4b99604a",
   "metadata": {},
   "outputs": [],
   "source": []
  },
  {
   "cell_type": "code",
   "execution_count": null,
   "id": "73bdf7f3",
   "metadata": {},
   "outputs": [],
   "source": []
  },
  {
   "cell_type": "code",
   "execution_count": 32,
   "id": "6bd9d907",
   "metadata": {},
   "outputs": [
    {
     "name": "stdout",
     "output_type": "stream",
     "text": [
      "-62.99766038663265\n",
      "[[-5.29877434e-08 -6.93284838e-08  9.26278475e-12]] [[-0.15034319]]\n",
      "-47.23289896235004\n",
      "[[-1.08216992e-08 -1.08187495e-08 -1.08191794e-08]] [[-0.1368621]]\n",
      "-52.30607832004728\n",
      "[[-1.26049411e-08 -1.26049411e-08 -1.30119466e-08]] [[-0.12426652]]\n",
      "-58.5864175063748\n",
      "[[-6.16557859e-09 -6.16557859e-09 -6.13959600e-09]] [[-0.10648262]]\n",
      "-69.27938944827626\n",
      "[[-5.39070576e-08 -5.95298577e-08  3.14177983e-11]] [[-0.13929813]]\n",
      "-51.33585512239044\n",
      "[[ 0.00000000e+00 -9.03684886e-10  3.21399164e-11]] [[-0.17518397]]\n",
      "-51.16042239201557\n",
      "[[ 0.00000000e+00 -8.52368385e-10  2.99991406e-11]] [[-0.17415363]]\n",
      "-51.00988374886411\n",
      "[[ 0.00000000e+00 -4.18745581e-10  9.80171902e-11]] [[-0.17320607]]\n",
      "-76.54071125033988\n",
      "[[-4.18298746e-08 -4.04818157e-08  3.58764206e-11]] [[-0.11757433]]\n",
      "-57.666477399693186\n",
      "[[-7.20062233e-10 -9.21078389e-08  1.73233397e-10]] [[-0.18749116]]\n",
      "-44.25574409846847\n",
      "[[-1.38594968e-08 -1.38497671e-08 -1.33392204e-08]] [[-0.09721117]]\n",
      "-50.734080145369646\n",
      "[[-5.01475621e-09 -5.01475621e-09 -4.97503101e-09]] [[-0.07811947]]\n",
      "-84.81543541784652\n",
      "[[-2.10311794e-08 -1.80235851e-08  4.05167935e-11]] [[-0.0875858]]\n",
      "-68.37655592411244\n",
      "[[-7.71406455e-08 -6.47122309e-08  1.60471529e-11]] [[-0.14800499]]\n",
      "-52.37188064988935\n",
      "[[-3.25796990e-07 -4.33864199e-07 -3.23228227e-07]] [[-0.23465234]]\n",
      "-150.29442790450912\n",
      "[[1.51844042e-40 1.51844042e-40 1.51844042e-40]] [[-1.27171503e-16]]\n",
      "-68.36826046730359\n",
      "[[-4.60804704e-08 -6.37345935e-08  5.25898797e-11]] [[-0.13669027]]\n",
      "-48.30059096073121\n",
      "[[-1.83281175e-08 -4.95511984e-09 -4.88463281e-09]] [[-0.13149695]]\n",
      "-50.365433190541204\n",
      "[[-9.97838552e-09 -9.94742537e-09 -9.98414188e-09]] [[-0.13346581]]\n",
      "-55.04679986902378\n",
      "[[-8.86487360e-09 -8.86487360e-09 -9.33870997e-09]] [[-0.12323293]]\n",
      "-79.01297811624329\n",
      "[[-3.49401377e-08 -4.45916092e-08  6.01014844e-11]] [[-0.11538922]]\n",
      "-55.29733902578216\n",
      "[[-4.48911289e-08 -5.35701494e-08  9.17332818e-12]] [[-0.15837956]]\n",
      "-45.963159051560105\n",
      "[[-1.39016386e-08 -1.39016386e-08 -1.47944120e-08]] [[-0.12587318]]\n",
      "-53.15664514468109\n",
      "[[-1.08383917e-08 -1.08383917e-08 -1.06740952e-08]] [[-0.10684744]]\n",
      "-93.07104875718446\n",
      "[[-1.27092625e-08 -1.46602618e-08  1.04718753e-11]] [[-0.07677802]]\n",
      "-74.47524986734216\n",
      "[[-4.20401057e-08 -4.97896410e-08  4.28607871e-11]] [[-0.12513705]]\n",
      "-54.17002339984643\n",
      "[[-7.62476794e-09 -5.63563149e-08 -1.55015642e-09]] [[-0.17185619]]\n",
      "-46.800982763996785\n",
      "[[-1.42397062e-08 -1.41949014e-08 -1.44964576e-08]] [[-0.1154913]]\n",
      "-110.71637315826814\n",
      "[[-3.41647947e-10 -3.33207269e-10  2.07810324e-12]] [[-0.02168133]]\n",
      "-109.92637293188669\n",
      "[[-4.37623506e-10 -4.28834451e-10  2.19699401e-12]] [[-0.02366098]]\n",
      "-108.93568449727371\n",
      "[[-5.95247761e-10 -5.83817393e-10  3.18366401e-12]] [[-0.02633069]]\n",
      "-107.66243361012545\n",
      "[[-8.60462765e-10 -8.30756462e-10  3.69339920e-12]] [[-0.02983411]]\n",
      "-76.61440683123213\n",
      "[[-3.29052208e-08 -5.59308920e-08  8.70134445e-11]] [[-0.12316998]]\n",
      "-50.24853487566641\n",
      "[[-1.44108242e-08 -2.59625709e-12  1.94847642e-11]] [[-0.12696538]]\n",
      "-49.85369758732283\n",
      "[[-1.64554358e-08  0.00000000e+00  3.87753780e-10]] [[-0.13233053]]\n",
      "-49.25678375620756\n",
      "[[-1.7379819e-08  0.0000000e+00  4.8953764e-10]] [[-0.13954816]]\n",
      "-94.95048328133387\n",
      "[[-1.49436494e-08 -2.15375527e-08  5.57907249e-11]] [[-0.08476573]]\n",
      "-69.40594406072498\n",
      "[[-4.01745519e-08 -6.18675404e-08  7.55047163e-11]] [[-0.13422068]]\n",
      "-48.470600444291286\n",
      "[[-1.79038634e-08 -5.23319749e-09 -5.33094327e-09]] [[-0.12721988]]\n",
      "-50.737589674443285\n",
      "[[-1.13429459e-08 -9.40172992e-09 -9.21592865e-09]] [[-0.12867018]]\n",
      "-118.87750683994808\n",
      "[[-1.55630341e-10 -1.74684049e-10  1.81135286e-12]] [[-0.01692275]]\n",
      "-118.50800312242957\n",
      "[[-1.87380586e-10 -2.12578187e-10  2.48101622e-12]] [[-0.01804598]]\n",
      "-117.94576571517602\n",
      "[[-2.38456927e-10 -2.73569765e-10  3.05889864e-12]] [[-0.0195873]]\n",
      "-117.42414016499892\n",
      "[[-2.94862029e-10 -3.44570638e-10  2.99353874e-12]] [[-0.02111028]]\n",
      "36.69661454588185\n",
      "[[2.77670096e-09 3.68714082e-09 1.73163704e-11]] [[-0.04838181]]\n",
      "29.542490068258648\n",
      "[[5.54518181e-09 7.31229969e-09 2.78246541e-11]] [[-0.06185823]]\n",
      "16.92805130883823\n",
      "[[8.71082816e-09 1.16314487e-08 2.79563273e-12]] [[-0.07965139]]\n",
      "3.8234422410813473\n",
      "[[ 7.25596523e-09  8.26674623e-09 -4.54940553e-10]] [[-0.08581171]]\n",
      "-88.00387354097026\n",
      "[[-2.51283948e-08 -4.69065904e-08  1.47632340e-10]] [[-0.10814276]]\n",
      "-53.71386065497192\n",
      "[[-1.71893420e-08 -4.00995109e-11  4.81179897e-11]] [[-0.12660257]]\n",
      "-52.534135959737206\n",
      "[[-1.98207369e-08 -1.56222369e-12 -8.93682241e-10]] [[-0.13141315]]\n",
      "-52.07807172001332\n",
      "[[-2.00359862e-08 -3.55226228e-12  5.09654712e-11]] [[-0.13822725]]\n",
      "-114.60461546731753\n",
      "[[-2.61068819e-09 -4.21732230e-09  1.88796213e-11]] [[-0.04710718]]\n",
      "-106.10983342453623\n",
      "[[-6.80086645e-09 -1.20217196e-08  4.00688311e-11]] [[-0.06803391]]\n",
      "-86.16375102502045\n",
      "[[-2.34666936e-08 -4.05732573e-08  4.35502000e-10]] [[-0.10879255]]\n",
      "-55.75165873263486\n",
      "[[-1.88467344e-08 -1.03308387e-09  2.90743020e-09]] [[-0.13463767]]\n",
      "37.6769601713496\n",
      "[[3.35421781e-10 6.71053483e-10 6.72981750e-12]] [[-0.02687932]]\n",
      "36.40032277078564\n",
      "[[4.64153613e-10 9.13558347e-10 9.13523373e-12]] [[-0.02976241]]\n",
      "34.892705595332316\n",
      "[[6.45484210e-10 1.22424918e-09 1.12745402e-11]] [[-0.03299751]]\n",
      "33.059555313561674\n",
      "[[9.32210550e-10 1.74698510e-09 1.43271224e-11]] [[-0.03714733]]\n",
      "17.188342936125576\n",
      "[[6.08603629e-09 9.43140750e-09 5.77655310e-11]] [[-0.07137833]]\n",
      "7.339173523844913\n",
      "[[6.70391733e-09 1.15339953e-08 9.43181983e-11]] [[-0.0823043]]\n",
      "-0.3619901878779626\n",
      "[[4.34905757e-09 7.68793201e-09 9.97069468e-11]] [[-0.08206995]]\n",
      "-4.269592025714342\n",
      "[[1.90526561e-09 3.81402886e-09 1.22876735e-10]] [[-0.0775232]]\n"
     ]
    }
   ],
   "source": [
    "basinarray = []\n",
    "retvalarray = []\n",
    "best_fit_array = []\n",
    "paramrange = np.array([16, 18, 20, 22])\n",
    "# ten random starting points each optimized to local minima or maxiter\n",
    "for y in range(4):\n",
    "    for z in range(4):\n",
    "        Adjoint_phase = 0.0\n",
    "        lockin = 15\n",
    "        lockin_prev = 15\n",
    "        rguess1 = np.full((Periods, 3), [paramrange[y]*10e-9, paramrange[z]*10e-9, lmp/2])\n",
    "        for j in range(Periods):\n",
    "            rguess1[j][2] = (0.5*max_Periods_array[j])+np.sum(max_Periods_array[:j])\n",
    "        rguess1 = rguess1.flatten()\n",
    "        #force minimum step size to 1nm \n",
    "        param_basin, maxretval, best_fit = adam_optimize(func, rguess1, bnds, step_size=100.0e-9, Nsteps=4, direction='max')\n",
    "        basinarray.append(param_basin)\n",
    "        retvalarray.append(maxretval)\n",
    "        best_fit_array.append(best_fit)\n",
    "        NPbasinarray = np.array(basinarray)\n",
    "        NPretvalarray = np.array(retvalarray)\n",
    "        NPbest_fit_array = np.array(best_fit_array)\n",
    "        np.savetxt(\"basinarray_singlepillar-superposition.txt\", np.array(NPbasinarray))\n",
    "        np.savetxt(\"retvalarray_singlepillar-superposition.txt\", np.array(NPretvalarray))\n",
    "        np.savetxt(\"best_fit_array-singlepillar.txt\", np.array(NPbest_fit_array))\n",
    "        #save params and maxvalue "
   ]
  },
  {
   "cell_type": "code",
   "execution_count": null,
   "id": "758b2b4e",
   "metadata": {},
   "outputs": [],
   "source": []
  },
  {
   "cell_type": "code",
   "execution_count": null,
   "id": "bdca6adf",
   "metadata": {},
   "outputs": [],
   "source": []
  },
  {
   "cell_type": "code",
   "execution_count": null,
   "id": "254f757b",
   "metadata": {},
   "outputs": [],
   "source": []
  },
  {
   "cell_type": "code",
   "execution_count": null,
   "id": "ad4aa57e",
   "metadata": {},
   "outputs": [],
   "source": []
  },
  {
   "cell_type": "code",
   "execution_count": null,
   "id": "c431aa02",
   "metadata": {},
   "outputs": [],
   "source": []
  },
  {
   "cell_type": "code",
   "execution_count": null,
   "id": "b8fd84d6",
   "metadata": {},
   "outputs": [],
   "source": []
  },
  {
   "cell_type": "code",
   "execution_count": null,
   "id": "c2ef475f",
   "metadata": {},
   "outputs": [],
   "source": []
  },
  {
   "cell_type": "code",
   "execution_count": null,
   "id": "de21a1cb",
   "metadata": {},
   "outputs": [],
   "source": []
  },
  {
   "cell_type": "code",
   "execution_count": null,
   "id": "0796c53e",
   "metadata": {},
   "outputs": [],
   "source": []
  },
  {
   "cell_type": "code",
   "execution_count": null,
   "id": "ed752872",
   "metadata": {},
   "outputs": [],
   "source": []
  },
  {
   "cell_type": "code",
   "execution_count": 35,
   "id": "4120e17e",
   "metadata": {},
   "outputs": [],
   "source": [
    "np.savetxt(\"optimizedresult-singlepillar-1.txt\", np.array(optresult))"
   ]
  },
  {
   "cell_type": "code",
   "execution_count": 34,
   "id": "00d5bbab",
   "metadata": {},
   "outputs": [],
   "source": [
    "NPbasinarray = np.array(basinarray)\n",
    "NPretvalarray = np.array(retvalarray)\n",
    "NPbest_fit_array = np.array(best_fit_array)\n",
    "np.savetxt(\"basinarray_nonperiodic-17.txt\", np.array(NPbasinarray))\n",
    "np.savetxt(\"retvalarray_nonperiodic-17.txt\", np.array(NPretvalarray))\n",
    "np.savetxt(\"best_fit_array-17.txt\", np.array(NPbest_fit_array))"
   ]
  },
  {
   "cell_type": "code",
   "execution_count": 35,
   "id": "a5d45718",
   "metadata": {},
   "outputs": [
    {
     "data": {
      "text/plain": [
       "[array([0.00871637]),\n",
       " array([0.07331751]),\n",
       " array([0.08495526]),\n",
       " array([0.10849658]),\n",
       " array([0.11787779]),\n",
       " array([0.14935133]),\n",
       " array([0.14024098]),\n",
       " array([0.13308344]),\n",
       " array([0.12228055]),\n",
       " array([0.10879259]),\n",
       " array([0.08823656]),\n",
       " array([0.67305569]),\n",
       " array([0.66660726]),\n",
       " array([0.58562107]),\n",
       " array([0.59441182])]"
      ]
     },
     "execution_count": 35,
     "metadata": {},
     "output_type": "execute_result"
    }
   ],
   "source": [
    "np.savetxt(\"basinarray_nonperiodic-17.txt\", np.array(NPbasinarray))\n",
    "np.savetxt(\"retvalarray_nonperiodic-17.txt\", np.array(NPretvalarray))\n",
    "np.savetxt(\"best_fit_array-17.txt\", np.array(NPbest_fit_array))\n",
    "best_fit_array"
   ]
  },
  {
   "cell_type": "code",
   "execution_count": 33,
   "id": "a1978a42",
   "metadata": {},
   "outputs": [
    {
     "data": {
      "text/plain": [
       "array([0.02260308, 0.03068942, 0.03515293, 0.05506172, 0.01868423,\n",
       "       0.02508408, 0.02953455, 0.00089007, 0.01947369, 0.01801519,\n",
       "       0.00044564, 0.00736365, 0.01910677, 0.0181273 , 0.00137992,\n",
       "       0.006774  ])"
      ]
     },
     "execution_count": 33,
     "metadata": {},
     "output_type": "execute_result"
    }
   ],
   "source": [
    "NPretvalarray"
   ]
  },
  {
   "cell_type": "code",
   "execution_count": 33,
   "id": "00f886a1",
   "metadata": {},
   "outputs": [
    {
     "data": {
      "text/plain": [
       "1.0"
      ]
     },
     "execution_count": 33,
     "metadata": {},
     "output_type": "execute_result"
    }
   ],
   "source": [
    "max_Periods_array[-1]/max_Periods_array[0]"
   ]
  },
  {
   "cell_type": "code",
   "execution_count": 34,
   "id": "8078f3b0",
   "metadata": {},
   "outputs": [
    {
     "data": {
      "text/plain": [
       "10"
      ]
     },
     "execution_count": 34,
     "metadata": {},
     "output_type": "execute_result"
    }
   ],
   "source": [
    "idx = np.argmin(NPretvalarray)\n",
    "Ropt = NPbasinarray[idx]\n",
    "idx"
   ]
  },
  {
   "cell_type": "code",
   "execution_count": null,
   "id": "0f3fd364",
   "metadata": {},
   "outputs": [],
   "source": []
  },
  {
   "cell_type": "code",
   "execution_count": 33,
   "id": "97c587aa",
   "metadata": {},
   "outputs": [],
   "source": [
    "H = 15"
   ]
  },
  {
   "cell_type": "code",
   "execution_count": 34,
   "id": "ddfd2b88",
   "metadata": {},
   "outputs": [],
   "source": [
    "e = np.array(np.loadtxt(\"non-periodic-superposition.txt\"))"
   ]
  },
  {
   "cell_type": "code",
   "execution_count": 35,
   "id": "c36aed02",
   "metadata": {},
   "outputs": [],
   "source": [
    "e = e[:, H:Periods-H]"
   ]
  },
  {
   "cell_type": "code",
   "execution_count": 36,
   "id": "66ad8bc1",
   "metadata": {},
   "outputs": [
    {
     "data": {
      "text/plain": [
       "(5, 120)"
      ]
     },
     "execution_count": 36,
     "metadata": {},
     "output_type": "execute_result"
    }
   ],
   "source": [
    "e.shape"
   ]
  },
  {
   "cell_type": "code",
   "execution_count": 41,
   "id": "b00f4a65",
   "metadata": {},
   "outputs": [],
   "source": [
    "e = e[:2]"
   ]
  },
  {
   "cell_type": "code",
   "execution_count": 37,
   "id": "0bff4f25",
   "metadata": {},
   "outputs": [],
   "source": [
    "%matplotlib notebook"
   ]
  },
  {
   "cell_type": "code",
   "execution_count": 38,
   "id": "3e4982e1",
   "metadata": {},
   "outputs": [
    {
     "data": {
      "application/javascript": "/* Put everything inside the global mpl namespace */\n/* global mpl */\nwindow.mpl = {};\n\nmpl.get_websocket_type = function () {\n    if (typeof WebSocket !== 'undefined') {\n        return WebSocket;\n    } else if (typeof MozWebSocket !== 'undefined') {\n        return MozWebSocket;\n    } else {\n        alert(\n            'Your browser does not have WebSocket support. ' +\n                'Please try Chrome, Safari or Firefox ≥ 6. ' +\n                'Firefox 4 and 5 are also supported but you ' +\n                'have to enable WebSockets in about:config.'\n        );\n    }\n};\n\nmpl.figure = function (figure_id, websocket, ondownload, parent_element) {\n    this.id = figure_id;\n\n    this.ws = websocket;\n\n    this.supports_binary = this.ws.binaryType !== undefined;\n\n    if (!this.supports_binary) {\n        var warnings = document.getElementById('mpl-warnings');\n        if (warnings) {\n            warnings.style.display = 'block';\n            warnings.textContent =\n                'This browser does not support binary websocket messages. ' +\n                'Performance may be slow.';\n        }\n    }\n\n    this.imageObj = new Image();\n\n    this.context = undefined;\n    this.message = undefined;\n    this.canvas = undefined;\n    this.rubberband_canvas = undefined;\n    this.rubberband_context = undefined;\n    this.format_dropdown = undefined;\n\n    this.image_mode = 'full';\n\n    this.root = document.createElement('div');\n    this.root.setAttribute('style', 'display: inline-block');\n    this._root_extra_style(this.root);\n\n    parent_element.appendChild(this.root);\n\n    this._init_header(this);\n    this._init_canvas(this);\n    this._init_toolbar(this);\n\n    var fig = this;\n\n    this.waiting = false;\n\n    this.ws.onopen = function () {\n        fig.send_message('supports_binary', { value: fig.supports_binary });\n        fig.send_message('send_image_mode', {});\n        if (fig.ratio !== 1) {\n            fig.send_message('set_dpi_ratio', { dpi_ratio: fig.ratio });\n        }\n        fig.send_message('refresh', {});\n    };\n\n    this.imageObj.onload = function () {\n        if (fig.image_mode === 'full') {\n            // Full images could contain transparency (where diff images\n            // almost always do), so we need to clear the canvas so that\n            // there is no ghosting.\n            fig.context.clearRect(0, 0, fig.canvas.width, fig.canvas.height);\n        }\n        fig.context.drawImage(fig.imageObj, 0, 0);\n    };\n\n    this.imageObj.onunload = function () {\n        fig.ws.close();\n    };\n\n    this.ws.onmessage = this._make_on_message_function(this);\n\n    this.ondownload = ondownload;\n};\n\nmpl.figure.prototype._init_header = function () {\n    var titlebar = document.createElement('div');\n    titlebar.classList =\n        'ui-dialog-titlebar ui-widget-header ui-corner-all ui-helper-clearfix';\n    var titletext = document.createElement('div');\n    titletext.classList = 'ui-dialog-title';\n    titletext.setAttribute(\n        'style',\n        'width: 100%; text-align: center; padding: 3px;'\n    );\n    titlebar.appendChild(titletext);\n    this.root.appendChild(titlebar);\n    this.header = titletext;\n};\n\nmpl.figure.prototype._canvas_extra_style = function (_canvas_div) {};\n\nmpl.figure.prototype._root_extra_style = function (_canvas_div) {};\n\nmpl.figure.prototype._init_canvas = function () {\n    var fig = this;\n\n    var canvas_div = (this.canvas_div = document.createElement('div'));\n    canvas_div.setAttribute(\n        'style',\n        'border: 1px solid #ddd;' +\n            'box-sizing: content-box;' +\n            'clear: both;' +\n            'min-height: 1px;' +\n            'min-width: 1px;' +\n            'outline: 0;' +\n            'overflow: hidden;' +\n            'position: relative;' +\n            'resize: both;'\n    );\n\n    function on_keyboard_event_closure(name) {\n        return function (event) {\n            return fig.key_event(event, name);\n        };\n    }\n\n    canvas_div.addEventListener(\n        'keydown',\n        on_keyboard_event_closure('key_press')\n    );\n    canvas_div.addEventListener(\n        'keyup',\n        on_keyboard_event_closure('key_release')\n    );\n\n    this._canvas_extra_style(canvas_div);\n    this.root.appendChild(canvas_div);\n\n    var canvas = (this.canvas = document.createElement('canvas'));\n    canvas.classList.add('mpl-canvas');\n    canvas.setAttribute('style', 'box-sizing: content-box;');\n\n    this.context = canvas.getContext('2d');\n\n    var backingStore =\n        this.context.backingStorePixelRatio ||\n        this.context.webkitBackingStorePixelRatio ||\n        this.context.mozBackingStorePixelRatio ||\n        this.context.msBackingStorePixelRatio ||\n        this.context.oBackingStorePixelRatio ||\n        this.context.backingStorePixelRatio ||\n        1;\n\n    this.ratio = (window.devicePixelRatio || 1) / backingStore;\n\n    var rubberband_canvas = (this.rubberband_canvas = document.createElement(\n        'canvas'\n    ));\n    rubberband_canvas.setAttribute(\n        'style',\n        'box-sizing: content-box; position: absolute; left: 0; top: 0; z-index: 1;'\n    );\n\n    // Apply a ponyfill if ResizeObserver is not implemented by browser.\n    if (this.ResizeObserver === undefined) {\n        if (window.ResizeObserver !== undefined) {\n            this.ResizeObserver = window.ResizeObserver;\n        } else {\n            var obs = _JSXTOOLS_RESIZE_OBSERVER({});\n            this.ResizeObserver = obs.ResizeObserver;\n        }\n    }\n\n    this.resizeObserverInstance = new this.ResizeObserver(function (entries) {\n        var nentries = entries.length;\n        for (var i = 0; i < nentries; i++) {\n            var entry = entries[i];\n            var width, height;\n            if (entry.contentBoxSize) {\n                if (entry.contentBoxSize instanceof Array) {\n                    // Chrome 84 implements new version of spec.\n                    width = entry.contentBoxSize[0].inlineSize;\n                    height = entry.contentBoxSize[0].blockSize;\n                } else {\n                    // Firefox implements old version of spec.\n                    width = entry.contentBoxSize.inlineSize;\n                    height = entry.contentBoxSize.blockSize;\n                }\n            } else {\n                // Chrome <84 implements even older version of spec.\n                width = entry.contentRect.width;\n                height = entry.contentRect.height;\n            }\n\n            // Keep the size of the canvas and rubber band canvas in sync with\n            // the canvas container.\n            if (entry.devicePixelContentBoxSize) {\n                // Chrome 84 implements new version of spec.\n                canvas.setAttribute(\n                    'width',\n                    entry.devicePixelContentBoxSize[0].inlineSize\n                );\n                canvas.setAttribute(\n                    'height',\n                    entry.devicePixelContentBoxSize[0].blockSize\n                );\n            } else {\n                canvas.setAttribute('width', width * fig.ratio);\n                canvas.setAttribute('height', height * fig.ratio);\n            }\n            canvas.setAttribute(\n                'style',\n                'width: ' + width + 'px; height: ' + height + 'px;'\n            );\n\n            rubberband_canvas.setAttribute('width', width);\n            rubberband_canvas.setAttribute('height', height);\n\n            // And update the size in Python. We ignore the initial 0/0 size\n            // that occurs as the element is placed into the DOM, which should\n            // otherwise not happen due to the minimum size styling.\n            if (fig.ws.readyState == 1 && width != 0 && height != 0) {\n                fig.request_resize(width, height);\n            }\n        }\n    });\n    this.resizeObserverInstance.observe(canvas_div);\n\n    function on_mouse_event_closure(name) {\n        return function (event) {\n            return fig.mouse_event(event, name);\n        };\n    }\n\n    rubberband_canvas.addEventListener(\n        'mousedown',\n        on_mouse_event_closure('button_press')\n    );\n    rubberband_canvas.addEventListener(\n        'mouseup',\n        on_mouse_event_closure('button_release')\n    );\n    // Throttle sequential mouse events to 1 every 20ms.\n    rubberband_canvas.addEventListener(\n        'mousemove',\n        on_mouse_event_closure('motion_notify')\n    );\n\n    rubberband_canvas.addEventListener(\n        'mouseenter',\n        on_mouse_event_closure('figure_enter')\n    );\n    rubberband_canvas.addEventListener(\n        'mouseleave',\n        on_mouse_event_closure('figure_leave')\n    );\n\n    canvas_div.addEventListener('wheel', function (event) {\n        if (event.deltaY < 0) {\n            event.step = 1;\n        } else {\n            event.step = -1;\n        }\n        on_mouse_event_closure('scroll')(event);\n    });\n\n    canvas_div.appendChild(canvas);\n    canvas_div.appendChild(rubberband_canvas);\n\n    this.rubberband_context = rubberband_canvas.getContext('2d');\n    this.rubberband_context.strokeStyle = '#000000';\n\n    this._resize_canvas = function (width, height, forward) {\n        if (forward) {\n            canvas_div.style.width = width + 'px';\n            canvas_div.style.height = height + 'px';\n        }\n    };\n\n    // Disable right mouse context menu.\n    this.rubberband_canvas.addEventListener('contextmenu', function (_e) {\n        event.preventDefault();\n        return false;\n    });\n\n    function set_focus() {\n        canvas.focus();\n        canvas_div.focus();\n    }\n\n    window.setTimeout(set_focus, 100);\n};\n\nmpl.figure.prototype._init_toolbar = function () {\n    var fig = this;\n\n    var toolbar = document.createElement('div');\n    toolbar.classList = 'mpl-toolbar';\n    this.root.appendChild(toolbar);\n\n    function on_click_closure(name) {\n        return function (_event) {\n            return fig.toolbar_button_onclick(name);\n        };\n    }\n\n    function on_mouseover_closure(tooltip) {\n        return function (event) {\n            if (!event.currentTarget.disabled) {\n                return fig.toolbar_button_onmouseover(tooltip);\n            }\n        };\n    }\n\n    fig.buttons = {};\n    var buttonGroup = document.createElement('div');\n    buttonGroup.classList = 'mpl-button-group';\n    for (var toolbar_ind in mpl.toolbar_items) {\n        var name = mpl.toolbar_items[toolbar_ind][0];\n        var tooltip = mpl.toolbar_items[toolbar_ind][1];\n        var image = mpl.toolbar_items[toolbar_ind][2];\n        var method_name = mpl.toolbar_items[toolbar_ind][3];\n\n        if (!name) {\n            /* Instead of a spacer, we start a new button group. */\n            if (buttonGroup.hasChildNodes()) {\n                toolbar.appendChild(buttonGroup);\n            }\n            buttonGroup = document.createElement('div');\n            buttonGroup.classList = 'mpl-button-group';\n            continue;\n        }\n\n        var button = (fig.buttons[name] = document.createElement('button'));\n        button.classList = 'mpl-widget';\n        button.setAttribute('role', 'button');\n        button.setAttribute('aria-disabled', 'false');\n        button.addEventListener('click', on_click_closure(method_name));\n        button.addEventListener('mouseover', on_mouseover_closure(tooltip));\n\n        var icon_img = document.createElement('img');\n        icon_img.src = '_images/' + image + '.png';\n        icon_img.srcset = '_images/' + image + '_large.png 2x';\n        icon_img.alt = tooltip;\n        button.appendChild(icon_img);\n\n        buttonGroup.appendChild(button);\n    }\n\n    if (buttonGroup.hasChildNodes()) {\n        toolbar.appendChild(buttonGroup);\n    }\n\n    var fmt_picker = document.createElement('select');\n    fmt_picker.classList = 'mpl-widget';\n    toolbar.appendChild(fmt_picker);\n    this.format_dropdown = fmt_picker;\n\n    for (var ind in mpl.extensions) {\n        var fmt = mpl.extensions[ind];\n        var option = document.createElement('option');\n        option.selected = fmt === mpl.default_extension;\n        option.innerHTML = fmt;\n        fmt_picker.appendChild(option);\n    }\n\n    var status_bar = document.createElement('span');\n    status_bar.classList = 'mpl-message';\n    toolbar.appendChild(status_bar);\n    this.message = status_bar;\n};\n\nmpl.figure.prototype.request_resize = function (x_pixels, y_pixels) {\n    // Request matplotlib to resize the figure. Matplotlib will then trigger a resize in the client,\n    // which will in turn request a refresh of the image.\n    this.send_message('resize', { width: x_pixels, height: y_pixels });\n};\n\nmpl.figure.prototype.send_message = function (type, properties) {\n    properties['type'] = type;\n    properties['figure_id'] = this.id;\n    this.ws.send(JSON.stringify(properties));\n};\n\nmpl.figure.prototype.send_draw_message = function () {\n    if (!this.waiting) {\n        this.waiting = true;\n        this.ws.send(JSON.stringify({ type: 'draw', figure_id: this.id }));\n    }\n};\n\nmpl.figure.prototype.handle_save = function (fig, _msg) {\n    var format_dropdown = fig.format_dropdown;\n    var format = format_dropdown.options[format_dropdown.selectedIndex].value;\n    fig.ondownload(fig, format);\n};\n\nmpl.figure.prototype.handle_resize = function (fig, msg) {\n    var size = msg['size'];\n    if (size[0] !== fig.canvas.width || size[1] !== fig.canvas.height) {\n        fig._resize_canvas(size[0], size[1], msg['forward']);\n        fig.send_message('refresh', {});\n    }\n};\n\nmpl.figure.prototype.handle_rubberband = function (fig, msg) {\n    var x0 = msg['x0'] / fig.ratio;\n    var y0 = (fig.canvas.height - msg['y0']) / fig.ratio;\n    var x1 = msg['x1'] / fig.ratio;\n    var y1 = (fig.canvas.height - msg['y1']) / fig.ratio;\n    x0 = Math.floor(x0) + 0.5;\n    y0 = Math.floor(y0) + 0.5;\n    x1 = Math.floor(x1) + 0.5;\n    y1 = Math.floor(y1) + 0.5;\n    var min_x = Math.min(x0, x1);\n    var min_y = Math.min(y0, y1);\n    var width = Math.abs(x1 - x0);\n    var height = Math.abs(y1 - y0);\n\n    fig.rubberband_context.clearRect(\n        0,\n        0,\n        fig.canvas.width / fig.ratio,\n        fig.canvas.height / fig.ratio\n    );\n\n    fig.rubberband_context.strokeRect(min_x, min_y, width, height);\n};\n\nmpl.figure.prototype.handle_figure_label = function (fig, msg) {\n    // Updates the figure title.\n    fig.header.textContent = msg['label'];\n};\n\nmpl.figure.prototype.handle_cursor = function (fig, msg) {\n    var cursor = msg['cursor'];\n    switch (cursor) {\n        case 0:\n            cursor = 'pointer';\n            break;\n        case 1:\n            cursor = 'default';\n            break;\n        case 2:\n            cursor = 'crosshair';\n            break;\n        case 3:\n            cursor = 'move';\n            break;\n    }\n    fig.rubberband_canvas.style.cursor = cursor;\n};\n\nmpl.figure.prototype.handle_message = function (fig, msg) {\n    fig.message.textContent = msg['message'];\n};\n\nmpl.figure.prototype.handle_draw = function (fig, _msg) {\n    // Request the server to send over a new figure.\n    fig.send_draw_message();\n};\n\nmpl.figure.prototype.handle_image_mode = function (fig, msg) {\n    fig.image_mode = msg['mode'];\n};\n\nmpl.figure.prototype.handle_history_buttons = function (fig, msg) {\n    for (var key in msg) {\n        if (!(key in fig.buttons)) {\n            continue;\n        }\n        fig.buttons[key].disabled = !msg[key];\n        fig.buttons[key].setAttribute('aria-disabled', !msg[key]);\n    }\n};\n\nmpl.figure.prototype.handle_navigate_mode = function (fig, msg) {\n    if (msg['mode'] === 'PAN') {\n        fig.buttons['Pan'].classList.add('active');\n        fig.buttons['Zoom'].classList.remove('active');\n    } else if (msg['mode'] === 'ZOOM') {\n        fig.buttons['Pan'].classList.remove('active');\n        fig.buttons['Zoom'].classList.add('active');\n    } else {\n        fig.buttons['Pan'].classList.remove('active');\n        fig.buttons['Zoom'].classList.remove('active');\n    }\n};\n\nmpl.figure.prototype.updated_canvas_event = function () {\n    // Called whenever the canvas gets updated.\n    this.send_message('ack', {});\n};\n\n// A function to construct a web socket function for onmessage handling.\n// Called in the figure constructor.\nmpl.figure.prototype._make_on_message_function = function (fig) {\n    return function socket_on_message(evt) {\n        if (evt.data instanceof Blob) {\n            /* FIXME: We get \"Resource interpreted as Image but\n             * transferred with MIME type text/plain:\" errors on\n             * Chrome.  But how to set the MIME type?  It doesn't seem\n             * to be part of the websocket stream */\n            evt.data.type = 'image/png';\n\n            /* Free the memory for the previous frames */\n            if (fig.imageObj.src) {\n                (window.URL || window.webkitURL).revokeObjectURL(\n                    fig.imageObj.src\n                );\n            }\n\n            fig.imageObj.src = (window.URL || window.webkitURL).createObjectURL(\n                evt.data\n            );\n            fig.updated_canvas_event();\n            fig.waiting = false;\n            return;\n        } else if (\n            typeof evt.data === 'string' &&\n            evt.data.slice(0, 21) === 'data:image/png;base64'\n        ) {\n            fig.imageObj.src = evt.data;\n            fig.updated_canvas_event();\n            fig.waiting = false;\n            return;\n        }\n\n        var msg = JSON.parse(evt.data);\n        var msg_type = msg['type'];\n\n        // Call the  \"handle_{type}\" callback, which takes\n        // the figure and JSON message as its only arguments.\n        try {\n            var callback = fig['handle_' + msg_type];\n        } catch (e) {\n            console.log(\n                \"No handler for the '\" + msg_type + \"' message type: \",\n                msg\n            );\n            return;\n        }\n\n        if (callback) {\n            try {\n                // console.log(\"Handling '\" + msg_type + \"' message: \", msg);\n                callback(fig, msg);\n            } catch (e) {\n                console.log(\n                    \"Exception inside the 'handler_\" + msg_type + \"' callback:\",\n                    e,\n                    e.stack,\n                    msg\n                );\n            }\n        }\n    };\n};\n\n// from http://stackoverflow.com/questions/1114465/getting-mouse-location-in-canvas\nmpl.findpos = function (e) {\n    //this section is from http://www.quirksmode.org/js/events_properties.html\n    var targ;\n    if (!e) {\n        e = window.event;\n    }\n    if (e.target) {\n        targ = e.target;\n    } else if (e.srcElement) {\n        targ = e.srcElement;\n    }\n    if (targ.nodeType === 3) {\n        // defeat Safari bug\n        targ = targ.parentNode;\n    }\n\n    // pageX,Y are the mouse positions relative to the document\n    var boundingRect = targ.getBoundingClientRect();\n    var x = e.pageX - (boundingRect.left + document.body.scrollLeft);\n    var y = e.pageY - (boundingRect.top + document.body.scrollTop);\n\n    return { x: x, y: y };\n};\n\n/*\n * return a copy of an object with only non-object keys\n * we need this to avoid circular references\n * http://stackoverflow.com/a/24161582/3208463\n */\nfunction simpleKeys(original) {\n    return Object.keys(original).reduce(function (obj, key) {\n        if (typeof original[key] !== 'object') {\n            obj[key] = original[key];\n        }\n        return obj;\n    }, {});\n}\n\nmpl.figure.prototype.mouse_event = function (event, name) {\n    var canvas_pos = mpl.findpos(event);\n\n    if (name === 'button_press') {\n        this.canvas.focus();\n        this.canvas_div.focus();\n    }\n\n    var x = canvas_pos.x * this.ratio;\n    var y = canvas_pos.y * this.ratio;\n\n    this.send_message(name, {\n        x: x,\n        y: y,\n        button: event.button,\n        step: event.step,\n        guiEvent: simpleKeys(event),\n    });\n\n    /* This prevents the web browser from automatically changing to\n     * the text insertion cursor when the button is pressed.  We want\n     * to control all of the cursor setting manually through the\n     * 'cursor' event from matplotlib */\n    event.preventDefault();\n    return false;\n};\n\nmpl.figure.prototype._key_event_extra = function (_event, _name) {\n    // Handle any extra behaviour associated with a key event\n};\n\nmpl.figure.prototype.key_event = function (event, name) {\n    // Prevent repeat events\n    if (name === 'key_press') {\n        if (event.which === this._key) {\n            return;\n        } else {\n            this._key = event.which;\n        }\n    }\n    if (name === 'key_release') {\n        this._key = null;\n    }\n\n    var value = '';\n    if (event.ctrlKey && event.which !== 17) {\n        value += 'ctrl+';\n    }\n    if (event.altKey && event.which !== 18) {\n        value += 'alt+';\n    }\n    if (event.shiftKey && event.which !== 16) {\n        value += 'shift+';\n    }\n\n    value += 'k';\n    value += event.which.toString();\n\n    this._key_event_extra(event, name);\n\n    this.send_message(name, { key: value, guiEvent: simpleKeys(event) });\n    return false;\n};\n\nmpl.figure.prototype.toolbar_button_onclick = function (name) {\n    if (name === 'download') {\n        this.handle_save(this, null);\n    } else {\n        this.send_message('toolbar_button', { name: name });\n    }\n};\n\nmpl.figure.prototype.toolbar_button_onmouseover = function (tooltip) {\n    this.message.textContent = tooltip;\n};\n\n///////////////// REMAINING CONTENT GENERATED BY embed_js.py /////////////////\n// prettier-ignore\nvar _JSXTOOLS_RESIZE_OBSERVER=function(A){var t,i=new WeakMap,n=new WeakMap,a=new WeakMap,r=new WeakMap,o=new Set;function s(e){if(!(this instanceof s))throw new TypeError(\"Constructor requires 'new' operator\");i.set(this,e)}function h(){throw new TypeError(\"Function is not a constructor\")}function c(e,t,i,n){e=0 in arguments?Number(arguments[0]):0,t=1 in arguments?Number(arguments[1]):0,i=2 in arguments?Number(arguments[2]):0,n=3 in arguments?Number(arguments[3]):0,this.right=(this.x=this.left=e)+(this.width=i),this.bottom=(this.y=this.top=t)+(this.height=n),Object.freeze(this)}function d(){t=requestAnimationFrame(d);var s=new WeakMap,p=new Set;o.forEach((function(t){r.get(t).forEach((function(i){var r=t instanceof window.SVGElement,o=a.get(t),d=r?0:parseFloat(o.paddingTop),f=r?0:parseFloat(o.paddingRight),l=r?0:parseFloat(o.paddingBottom),u=r?0:parseFloat(o.paddingLeft),g=r?0:parseFloat(o.borderTopWidth),m=r?0:parseFloat(o.borderRightWidth),w=r?0:parseFloat(o.borderBottomWidth),b=u+f,F=d+l,v=(r?0:parseFloat(o.borderLeftWidth))+m,W=g+w,y=r?0:t.offsetHeight-W-t.clientHeight,E=r?0:t.offsetWidth-v-t.clientWidth,R=b+v,z=F+W,M=r?t.width:parseFloat(o.width)-R-E,O=r?t.height:parseFloat(o.height)-z-y;if(n.has(t)){var k=n.get(t);if(k[0]===M&&k[1]===O)return}n.set(t,[M,O]);var S=Object.create(h.prototype);S.target=t,S.contentRect=new c(u,d,M,O),s.has(i)||(s.set(i,[]),p.add(i)),s.get(i).push(S)}))})),p.forEach((function(e){i.get(e).call(e,s.get(e),e)}))}return s.prototype.observe=function(i){if(i instanceof window.Element){r.has(i)||(r.set(i,new Set),o.add(i),a.set(i,window.getComputedStyle(i)));var n=r.get(i);n.has(this)||n.add(this),cancelAnimationFrame(t),t=requestAnimationFrame(d)}},s.prototype.unobserve=function(i){if(i instanceof window.Element&&r.has(i)){var n=r.get(i);n.has(this)&&(n.delete(this),n.size||(r.delete(i),o.delete(i))),n.size||r.delete(i),o.size||cancelAnimationFrame(t)}},A.DOMRectReadOnly=c,A.ResizeObserver=s,A.ResizeObserverEntry=h,A}; // eslint-disable-line\nmpl.toolbar_items = [[\"Home\", \"Reset original view\", \"fa fa-home icon-home\", \"home\"], [\"Back\", \"Back to previous view\", \"fa fa-arrow-left icon-arrow-left\", \"back\"], [\"Forward\", \"Forward to next view\", \"fa fa-arrow-right icon-arrow-right\", \"forward\"], [\"\", \"\", \"\", \"\"], [\"Pan\", \"Left button pans, Right button zooms\\nx/y fixes axis, CTRL fixes aspect\", \"fa fa-arrows icon-move\", \"pan\"], [\"Zoom\", \"Zoom to rectangle\\nx/y fixes axis, CTRL fixes aspect\", \"fa fa-square-o icon-check-empty\", \"zoom\"], [\"\", \"\", \"\", \"\"], [\"Download\", \"Download plot\", \"fa fa-floppy-o icon-save\", \"download\"]];\n\nmpl.extensions = [\"eps\", \"jpeg\", \"pdf\", \"png\", \"ps\", \"raw\", \"svg\", \"tif\"];\n\nmpl.default_extension = \"png\";/* global mpl */\n\nvar comm_websocket_adapter = function (comm) {\n    // Create a \"websocket\"-like object which calls the given IPython comm\n    // object with the appropriate methods. Currently this is a non binary\n    // socket, so there is still some room for performance tuning.\n    var ws = {};\n\n    ws.close = function () {\n        comm.close();\n    };\n    ws.send = function (m) {\n        //console.log('sending', m);\n        comm.send(m);\n    };\n    // Register the callback with on_msg.\n    comm.on_msg(function (msg) {\n        //console.log('receiving', msg['content']['data'], msg);\n        // Pass the mpl event to the overridden (by mpl) onmessage function.\n        ws.onmessage(msg['content']['data']);\n    });\n    return ws;\n};\n\nmpl.mpl_figure_comm = function (comm, msg) {\n    // This is the function which gets called when the mpl process\n    // starts-up an IPython Comm through the \"matplotlib\" channel.\n\n    var id = msg.content.data.id;\n    // Get hold of the div created by the display call when the Comm\n    // socket was opened in Python.\n    var element = document.getElementById(id);\n    var ws_proxy = comm_websocket_adapter(comm);\n\n    function ondownload(figure, _format) {\n        window.open(figure.canvas.toDataURL());\n    }\n\n    var fig = new mpl.figure(id, ws_proxy, ondownload, element);\n\n    // Call onopen now - mpl needs it, as it is assuming we've passed it a real\n    // web socket which is closed, not our websocket->open comm proxy.\n    ws_proxy.onopen();\n\n    fig.parent_element = element;\n    fig.cell_info = mpl.find_output_cell(\"<div id='\" + id + \"'></div>\");\n    if (!fig.cell_info) {\n        console.error('Failed to find cell for figure', id, fig);\n        return;\n    }\n    fig.cell_info[0].output_area.element.on(\n        'cleared',\n        { fig: fig },\n        fig._remove_fig_handler\n    );\n};\n\nmpl.figure.prototype.handle_close = function (fig, msg) {\n    var width = fig.canvas.width / fig.ratio;\n    fig.cell_info[0].output_area.element.off(\n        'cleared',\n        fig._remove_fig_handler\n    );\n    fig.resizeObserverInstance.unobserve(fig.canvas_div);\n\n    // Update the output cell to use the data from the current canvas.\n    fig.push_to_output();\n    var dataURL = fig.canvas.toDataURL();\n    // Re-enable the keyboard manager in IPython - without this line, in FF,\n    // the notebook keyboard shortcuts fail.\n    IPython.keyboard_manager.enable();\n    fig.parent_element.innerHTML =\n        '<img src=\"' + dataURL + '\" width=\"' + width + '\">';\n    fig.close_ws(fig, msg);\n};\n\nmpl.figure.prototype.close_ws = function (fig, msg) {\n    fig.send_message('closing', msg);\n    // fig.ws.close()\n};\n\nmpl.figure.prototype.push_to_output = function (_remove_interactive) {\n    // Turn the data on the canvas into data in the output cell.\n    var width = this.canvas.width / this.ratio;\n    var dataURL = this.canvas.toDataURL();\n    this.cell_info[1]['text/html'] =\n        '<img src=\"' + dataURL + '\" width=\"' + width + '\">';\n};\n\nmpl.figure.prototype.updated_canvas_event = function () {\n    // Tell IPython that the notebook contents must change.\n    IPython.notebook.set_dirty(true);\n    this.send_message('ack', {});\n    var fig = this;\n    // Wait a second, then push the new image to the DOM so\n    // that it is saved nicely (might be nice to debounce this).\n    setTimeout(function () {\n        fig.push_to_output();\n    }, 1000);\n};\n\nmpl.figure.prototype._init_toolbar = function () {\n    var fig = this;\n\n    var toolbar = document.createElement('div');\n    toolbar.classList = 'btn-toolbar';\n    this.root.appendChild(toolbar);\n\n    function on_click_closure(name) {\n        return function (_event) {\n            return fig.toolbar_button_onclick(name);\n        };\n    }\n\n    function on_mouseover_closure(tooltip) {\n        return function (event) {\n            if (!event.currentTarget.disabled) {\n                return fig.toolbar_button_onmouseover(tooltip);\n            }\n        };\n    }\n\n    fig.buttons = {};\n    var buttonGroup = document.createElement('div');\n    buttonGroup.classList = 'btn-group';\n    var button;\n    for (var toolbar_ind in mpl.toolbar_items) {\n        var name = mpl.toolbar_items[toolbar_ind][0];\n        var tooltip = mpl.toolbar_items[toolbar_ind][1];\n        var image = mpl.toolbar_items[toolbar_ind][2];\n        var method_name = mpl.toolbar_items[toolbar_ind][3];\n\n        if (!name) {\n            /* Instead of a spacer, we start a new button group. */\n            if (buttonGroup.hasChildNodes()) {\n                toolbar.appendChild(buttonGroup);\n            }\n            buttonGroup = document.createElement('div');\n            buttonGroup.classList = 'btn-group';\n            continue;\n        }\n\n        button = fig.buttons[name] = document.createElement('button');\n        button.classList = 'btn btn-default';\n        button.href = '#';\n        button.title = name;\n        button.innerHTML = '<i class=\"fa ' + image + ' fa-lg\"></i>';\n        button.addEventListener('click', on_click_closure(method_name));\n        button.addEventListener('mouseover', on_mouseover_closure(tooltip));\n        buttonGroup.appendChild(button);\n    }\n\n    if (buttonGroup.hasChildNodes()) {\n        toolbar.appendChild(buttonGroup);\n    }\n\n    // Add the status bar.\n    var status_bar = document.createElement('span');\n    status_bar.classList = 'mpl-message pull-right';\n    toolbar.appendChild(status_bar);\n    this.message = status_bar;\n\n    // Add the close button to the window.\n    var buttongrp = document.createElement('div');\n    buttongrp.classList = 'btn-group inline pull-right';\n    button = document.createElement('button');\n    button.classList = 'btn btn-mini btn-primary';\n    button.href = '#';\n    button.title = 'Stop Interaction';\n    button.innerHTML = '<i class=\"fa fa-power-off icon-remove icon-large\"></i>';\n    button.addEventListener('click', function (_evt) {\n        fig.handle_close(fig, {});\n    });\n    button.addEventListener(\n        'mouseover',\n        on_mouseover_closure('Stop Interaction')\n    );\n    buttongrp.appendChild(button);\n    var titlebar = this.root.querySelector('.ui-dialog-titlebar');\n    titlebar.insertBefore(buttongrp, titlebar.firstChild);\n};\n\nmpl.figure.prototype._remove_fig_handler = function (event) {\n    var fig = event.data.fig;\n    if (event.target !== this) {\n        // Ignore bubbled events from children.\n        return;\n    }\n    fig.close_ws(fig, {});\n};\n\nmpl.figure.prototype._root_extra_style = function (el) {\n    el.style.boxSizing = 'content-box'; // override notebook setting of border-box.\n};\n\nmpl.figure.prototype._canvas_extra_style = function (el) {\n    // this is important to make the div 'focusable\n    el.setAttribute('tabindex', 0);\n    // reach out to IPython and tell the keyboard manager to turn it's self\n    // off when our div gets focus\n\n    // location in version 3\n    if (IPython.notebook.keyboard_manager) {\n        IPython.notebook.keyboard_manager.register_events(el);\n    } else {\n        // location in version 2\n        IPython.keyboard_manager.register_events(el);\n    }\n};\n\nmpl.figure.prototype._key_event_extra = function (event, _name) {\n    var manager = IPython.notebook.keyboard_manager;\n    if (!manager) {\n        manager = IPython.keyboard_manager;\n    }\n\n    // Check for shift+enter\n    if (event.shiftKey && event.which === 13) {\n        this.canvas_div.blur();\n        // select the cell after this one\n        var index = IPython.notebook.find_cell_index(this.cell_info[0]);\n        IPython.notebook.select(index + 1);\n    }\n};\n\nmpl.figure.prototype.handle_save = function (fig, _msg) {\n    fig.ondownload(fig, null);\n};\n\nmpl.find_output_cell = function (html_output) {\n    // Return the cell and output element which can be found *uniquely* in the notebook.\n    // Note - this is a bit hacky, but it is done because the \"notebook_saving.Notebook\"\n    // IPython event is triggered only after the cells have been serialised, which for\n    // our purposes (turning an active figure into a static one), is too late.\n    var cells = IPython.notebook.get_cells();\n    var ncells = cells.length;\n    for (var i = 0; i < ncells; i++) {\n        var cell = cells[i];\n        if (cell.cell_type === 'code') {\n            for (var j = 0; j < cell.output_area.outputs.length; j++) {\n                var data = cell.output_area.outputs[j];\n                if (data.data) {\n                    // IPython >= 3 moved mimebundle to data attribute of output\n                    data = data.data;\n                }\n                if (data['text/html'] === html_output) {\n                    return [cell, data, j];\n                }\n            }\n        }\n    }\n};\n\n// Register the function which deals with the matplotlib target/channel.\n// The kernel may be null if the page has been refreshed.\nif (IPython.notebook.kernel !== null) {\n    IPython.notebook.kernel.comm_manager.register_target(\n        'matplotlib',\n        mpl.mpl_figure_comm\n    );\n}\n",
      "text/plain": [
       "<IPython.core.display.Javascript object>"
      ]
     },
     "metadata": {},
     "output_type": "display_data"
    },
    {
     "data": {
      "text/html": [
       "<img src=\"data:image/png;base64,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\" width=\"640\">"
      ],
      "text/plain": [
       "<IPython.core.display.HTML object>"
      ]
     },
     "metadata": {},
     "output_type": "display_data"
    }
   ],
   "source": [
    "from matplotlib.animation import FuncAnimation\n",
    "from matplotlib import animation\n",
    "fig, ax = plt.subplots()\n",
    "\n",
    "line, = ax.plot([])\n",
    "\n",
    "XX = np.reshape(rguess1, (Periods, number_of_params))[:,2]\n",
    "XX = XX[H:Periods-H]\n",
    "\n",
    "plt.plot(XX, d_n[H:Periods-H], 'o')\n",
    "def animate_func(num):\n",
    "    plt.plot(XX, e[num],)\n",
    "    #plt.ylim((0.0, 0.30))\n",
    "line_ani = animation.FuncAnimation(fig, animate_func, interval=500)\n",
    "plt.show()"
   ]
  },
  {
   "cell_type": "code",
   "execution_count": null,
   "id": "2e18a167",
   "metadata": {},
   "outputs": [],
   "source": []
  },
  {
   "cell_type": "code",
   "execution_count": 31,
   "id": "cb465279",
   "metadata": {},
   "outputs": [],
   "source": [
    "A = np.reshape(rguess1, (Periods, number_of_params))[:,2]"
   ]
  },
  {
   "cell_type": "code",
   "execution_count": 33,
   "id": "47b56167",
   "metadata": {},
   "outputs": [
    {
     "data": {
      "text/plain": [
       "[<matplotlib.lines.Line2D at 0x1a557bdbee0>]"
      ]
     },
     "execution_count": 33,
     "metadata": {},
     "output_type": "execute_result"
    },
    {
     "data": {
      "image/png": "[encoded data removed]",
      "text/plain": [
       "<Figure size 432x288 with 1 Axes>"
      ]
     },
     "metadata": {
      "needs_background": "light"
     },
     "output_type": "display_data"
    }
   ],
   "source": [
    "plt.plot(B[8:52], best_Gn[8:52])\n",
    "plt.plot(B[8:52], d_n[8:52], 'o')"
   ]
  },
  {
   "cell_type": "code",
   "execution_count": null,
   "id": "5d47f4f2",
   "metadata": {},
   "outputs": [],
   "source": []
  },
  {
   "cell_type": "code",
   "execution_count": null,
   "id": "d6743a79",
   "metadata": {},
   "outputs": [],
   "source": [
    "#beta    e1\n",
    "#0.4 -> 0.31"
   ]
  },
  {
   "cell_type": "code",
   "execution_count": null,
   "id": "118130d9",
   "metadata": {},
   "outputs": [],
   "source": []
  },
  {
   "cell_type": "code",
   "execution_count": null,
   "id": "5742ed1b",
   "metadata": {},
   "outputs": [],
   "source": []
  },
  {
   "cell_type": "code",
   "execution_count": 39,
   "id": "5d902ce9",
   "metadata": {},
   "outputs": [],
   "source": [
    "np.savetxt(\"Final-superposition-bestGvals-150per-1.txt\", np.array(best_Gn))"
   ]
  },
  {
   "cell_type": "code",
   "execution_count": 35,
   "id": "41bb8cab",
   "metadata": {},
   "outputs": [],
   "source": [
    "H = 10"
   ]
  },
  {
   "cell_type": "code",
   "execution_count": 16,
   "id": "d8c1dd84",
   "metadata": {},
   "outputs": [
    {
     "data": {
      "text/plain": [
       "(150, 1)"
      ]
     },
     "execution_count": 16,
     "metadata": {},
     "output_type": "execute_result"
    }
   ],
   "source": []
  },
  {
   "cell_type": "code",
   "execution_count": 36,
   "id": "e076400a",
   "metadata": {},
   "outputs": [
    {
     "data": {
      "text/plain": [
       "[<matplotlib.lines.Line2D at 0x2c00f0ab040>]"
      ]
     },
     "execution_count": 36,
     "metadata": {},
     "output_type": "execute_result"
    },
    {
     "data": {
      "image/png": "[encoded data removed]",
      "text/plain": [
       "<Figure size 432x288 with 1 Axes>"
      ]
     },
     "metadata": {
      "needs_background": "light"
     },
     "output_type": "display_data"
    }
   ],
   "source": [
    "XX = np.reshape(rguess1, (Periods, number_of_params))[:,2]\n",
    "XX = np.linspace(0, Periods, Periods)\n",
    "XX = XX[H:Periods-H]\n",
    "\n",
    "plt.plot(XX, d_n[H:Periods-H], 'o')\n",
    "#plt.plot(XX, best_Gn[H:Periods-H])"
   ]
  },
  {
   "cell_type": "code",
   "execution_count": null,
   "id": "e6982066",
   "metadata": {},
   "outputs": [],
   "source": []
  },
  {
   "cell_type": "code",
   "execution_count": null,
   "id": "fa556d9a",
   "metadata": {},
   "outputs": [],
   "source": []
  }
 ],
 "metadata": {
  "kernelspec": {
   "display_name": "Python 3",
   "language": "python",
   "name": "python3"
  },
  "language_info": {
   "codemirror_mode": {
    "name": "ipython",
    "version": 3
   },
   "file_extension": ".py",
   "mimetype": "text/x-python",
   "name": "python",
   "nbconvert_exporter": "python",
   "pygments_lexer": "ipython3",
   "version": "3.8.5"
  }
 },
 "nbformat": 4,
 "nbformat_minor": 5
}
